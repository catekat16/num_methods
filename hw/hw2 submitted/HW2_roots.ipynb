{
 "cells": [
  {
   "cell_type": "markdown",
   "metadata": {},
   "source": [
    "Before you turn this problem in, make sure everything runs as expected. First, **restart the kernel** (in the menubar, select Kernel$\\rightarrow$Restart) and then **run all cells** (in the menubar, select Cell$\\rightarrow$Run All).\n",
    "\n",
    "Make sure you fill in any place that says `YOUR CODE HERE` or \"YOUR ANSWER HERE\", as well as any collaborators you worked with:"
   ]
  },
  {
   "cell_type": "code",
   "execution_count": 1,
   "metadata": {},
   "outputs": [],
   "source": [
    "COLLABORATORS = \"N/A\""
   ]
  },
  {
   "cell_type": "markdown",
   "metadata": {},
   "source": [
    "---"
   ]
  },
  {
   "cell_type": "code",
   "execution_count": 2,
   "metadata": {},
   "outputs": [],
   "source": [
    "from __future__ import print_function\n",
    "import numpy\n",
    "import matplotlib.pyplot as plt\n",
    "import warnings\n",
    "%matplotlib inline\n"
   ]
  },
  {
   "cell_type": "markdown",
   "metadata": {
    "deletable": false,
    "editable": false,
    "nbgrader": {
     "cell_type": "markdown",
     "checksum": "16a15b070eb04274387730b373ead3b7",
     "grade": false,
     "grade_id": "cell-7752050701682384",
     "locked": true,
     "schema_version": 3,
     "solution": false
    },
    "tags": []
   },
   "source": [
    "# HW 2:  Root Finding and Optimization"
   ]
  },
  {
   "cell_type": "markdown",
   "metadata": {
    "deletable": false,
    "editable": false,
    "nbgrader": {
     "cell_type": "markdown",
     "checksum": "b1026f6bf86b4386a6355f883f07995b",
     "grade": false,
     "grade_id": "cell-8382527651811313",
     "locked": true,
     "schema_version": 3,
     "solution": false
    }
   },
   "source": [
    "## Question 1 - Fun with Fixed Point iteration\n",
    "\n",
    "Let's say that we wanted to calculate $\\sqrt{M}$ given that $M \\in \\mathbb{R}$ and $M > 0$ and that we did not want to use the function `sqrt` directly.  Consider the function \n",
    "\n",
    "$$\n",
    "    f(x) = x^2 - M\n",
    "$$\n",
    "\n",
    "which has a positive root at at $x=\\sqrt{M}$.   Here we will try to solve this using  fixed point iteration\n",
    "\n",
    "$$\n",
    "    x_{k+1} = g(x_k)\n",
    "$$\n",
    "for several different iteration functions $g(x)$ (see below)\n",
    "\n",
    "For each function $g$:\n",
    "\n",
    "- Confirm analytically that $x=\\sqrt{M}$ is a fixed point of $g(x)$\n",
    "- Analyze the convergence behavior close to the fixed-point *for all values* of $\\sqrt{M}$ and determine the stability of the iterative scheme\n",
    "- Now set $M=3$  and $x_0 = 2$.  Make a nicely labeled convergence plot showing the log of the relative error as a function of iteration number.  If the solution converges: \n",
    "    * Describe the convergence rate (linear, quadratic, etc)\n",
    "    * How many iterations are required to reduce the relative error to machine precision?\n",
    "\n",
    "\n",
    "**Remember**: if you want to write $g^\\prime$, remember to use `g^\\prime` rather than `g'` in $\\LaTeX$ (otherwise nbgrader gets very unhappy)"
   ]
  },
  {
   "cell_type": "markdown",
   "metadata": {
    "deletable": false,
    "editable": false,
    "nbgrader": {
     "cell_type": "markdown",
     "checksum": "47d9ae565a714b67099b1500b01a4250",
     "grade": false,
     "grade_id": "cell-7408468548362671",
     "locked": true,
     "schema_version": 3,
     "solution": false
    }
   },
   "source": [
    "**(a)** [4] To help with the last part,  write a short python function to return N iterations of a fixed point iteration."
   ]
  },
  {
   "cell_type": "code",
   "execution_count": 5,
   "metadata": {
    "deletable": false,
    "nbgrader": {
     "cell_type": "code",
     "checksum": "d129be3e3aef3ba4dfe96d293a5310cb",
     "grade": false,
     "grade_id": "cell-5217816963816529",
     "locked": false,
     "schema_version": 3,
     "solution": true
    }
   },
   "outputs": [],
   "source": [
    "import numpy as np\n",
    "def fixed_point(g, x0, N=5):\n",
    "    \"\"\"conduct N iterations of the fixed point iteration x_{k+1} = g(x_k)\n",
    "    \n",
    "    :Input:\n",
    "        - *g* (function) - The iteration function\n",
    "        - *x_0* (float) - Initial guess\n",
    "        - *N* (int) - number of terms in iteration\n",
    "     \n",
    "    :Output:\n",
    "        x: numpy array (float)\n",
    "            array containing the iterations [ x0, x1, ... x_N ]\n",
    "    \"\"\"\n",
    "    #x = np.array([0 for i in range(N+1)])\n",
    "    #print(x)\n",
    "    x = np.zeros(N+1)\n",
    "    x[0] = x0\n",
    "    #print(x)\n",
    "    for i in range(N):\n",
    "        x[i+1] = g(x[i])\n",
    "        #print(i, x)\n",
    "    return x"
   ]
  },
  {
   "cell_type": "code",
   "execution_count": 6,
   "metadata": {
    "deletable": false,
    "editable": false,
    "nbgrader": {
     "cell_type": "code",
     "checksum": "62a641c4ff1153c8b1e8e39058a3a5eb",
     "grade": true,
     "grade_id": "cell-5409919424122382",
     "locked": true,
     "points": 4,
     "schema_version": 3,
     "solution": false
    }
   },
   "outputs": [
    {
     "name": "stdout",
     "output_type": "stream",
     "text": [
      "success: passed N=5 test\n",
      "success: passed N=1000 test\n"
     ]
    }
   ],
   "source": [
    "# Testing Cell\n",
    "\n",
    "N = 5\n",
    "g = lambda x: numpy.cos(x)\n",
    "x0 = 1.\n",
    "answer = numpy.array([1., 0.54030231, 0.85755322, 0.65428979, 0.79348036, 0.70136877])\n",
    "\n",
    "x = fixed_point(g, x0, N )\n",
    "numpy.testing.assert_allclose(x, answer)\n",
    "print('success: passed N=5 test')\n",
    "\n",
    "x_true = 0.7390851332153119\n",
    "x = fixed_point(g, x0, 1000)\n",
    "numpy.testing.assert_almost_equal(x[-1],x_true)\n",
    "print('success: passed N=1000 test')"
   ]
  },
  {
   "cell_type": "markdown",
   "metadata": {
    "deletable": false,
    "editable": false,
    "nbgrader": {
     "cell_type": "markdown",
     "checksum": "14b5f732f5aa0e3b5cfeac176c46d19c",
     "grade": false,
     "grade_id": "cell-2533433274902651",
     "locked": true,
     "schema_version": 3,
     "solution": false
    }
   },
   "source": [
    "**(b)** [6] analyze the problem with \n",
    "$$ g(x) = 1 + x - \\frac{x^2}{M}$$"
   ]
  },
  {
   "cell_type": "markdown",
   "metadata": {
    "deletable": false,
    "nbgrader": {
     "cell_type": "markdown",
     "checksum": "f8553ede2a496f25fd88744bab86b8fa",
     "grade": true,
     "grade_id": "cell-340019030337399",
     "locked": false,
     "points": 4,
     "schema_version": 3,
     "solution": true,
     "task": false
    }
   },
   "source": [
    "Analysis:\n",
    "\n",
    "x* = g(x*) = 1 + x* - (x*)^2 / M\n",
    "=> x* = M^(1/2)\n",
    "\n",
    "g'(x*) = 1 - 2x* / M = 1 - 2/M^(1/2)\n",
    "|g'(x*)| < 1 (converges) iff M > 1\n",
    "\n",
    "\n",
    "For 𝑀=3  and  𝑥0=2, $x=\\sqrt{3}$=1.732, the convergence behavior near the fixed point shows linear convergence, with relative error reaching machine epsilon within around 20 iterations."
   ]
  },
  {
   "cell_type": "code",
   "execution_count": 7,
   "metadata": {
    "deletable": false,
    "nbgrader": {
     "cell_type": "code",
     "checksum": "743a196e7f7129d5fdeb501531d96bc2",
     "grade": true,
     "grade_id": "cell-9ea67719fcf6c873",
     "locked": false,
     "points": 2,
     "schema_version": 3,
     "solution": true,
     "task": false
    }
   },
   "outputs": [
    {
     "name": "stdout",
     "output_type": "stream",
     "text": [
      "Total number of iterations for relative error to reach machine epsilon was:  20\n",
      "20 20\n"
     ]
    },
    {
     "data": {
      "image/png": "[encoded data removed]",
      "text/plain": [
       "<Figure size 432x288 with 1 Axes>"
      ]
     },
     "metadata": {
      "needs_background": "light"
     },
     "output_type": "display_data"
    }
   ],
   "source": [
    "# Place plotting code here if needed\n",
    "\n",
    "def plot_convergence(g, x0, MAX_NO_ITER=100):\n",
    "    x = x0\n",
    "    no_iters = [0]\n",
    "    iters = 0\n",
    "    r_arr = []\n",
    "    eps = np.finfo(float).eps\n",
    "    while iters < MAX_NO_ITER:\n",
    "        r = abs(g(x)-x)/abs(x) # relative error\n",
    "        r_arr.append(r)\n",
    "        if r < eps: break\n",
    "        x = g(x)\n",
    "        iters += 1\n",
    "        no_iters.append(iters)\n",
    "    print(\"Total number of iterations for relative error to reach machine epsilon was: \", iters+1) # starting from 0\n",
    "    \n",
    "    print(len(no_iters), len(r_arr))\n",
    "    if iters >= MAX_NO_ITER:\n",
    "        no_iters = no_iters[:-1] # get rid of the last appended for cases where no convergence occurs\n",
    "    plt.semilogy(no_iters, r_arr, 'bo-')\n",
    "    # plt.semilogy([x], y, [fmt], data=None, **kwargs)\n",
    "    plt.xlabel('number of iterations') \n",
    "    plt.ylabel('relative error (log scale)') \n",
    "    plt.title(\"rate of convergence for g(x)\")\n",
    "    plt.grid()\n",
    "    \n",
    "if __name__ == '__main__':\n",
    "    M = 3\n",
    "    x0 = 2\n",
    "    g = lambda x: 1 + x - x**2/M\n",
    "    \n",
    "    plot_convergence(g, x0)\n",
    "    \n",
    "    #x = range(11)\n",
    "    #y = fixed_point(g, x0, 10)\n",
    "    #plt.plot(x,y)\n",
    "    #plt.grid()\n",
    "\n",
    "    #x_true = 1.73205080757\n",
    "    #np.testing.assert_almost_equal(y[-1],x_true)"
   ]
  },
  {
   "cell_type": "markdown",
   "metadata": {
    "deletable": false,
    "editable": false,
    "nbgrader": {
     "cell_type": "markdown",
     "checksum": "631a3e4c05e43db09ece645a93dd948c",
     "grade": false,
     "grade_id": "cell-2533433274adsfadf1",
     "locked": true,
     "schema_version": 3,
     "solution": false
    }
   },
   "source": [
    " **(c)** [6] analyze the problem with \n",
    "$$ g(x) = \\frac{M}{x}$$"
   ]
  },
  {
   "cell_type": "markdown",
   "metadata": {
    "deletable": false,
    "nbgrader": {
     "cell_type": "markdown",
     "checksum": "4b9b505f2509ac5d4d21866f8f8735d0",
     "grade": true,
     "grade_id": "cell-340019030h348fqoi",
     "locked": false,
     "points": 4,
     "schema_version": 3,
     "solution": true,
     "task": false
    }
   },
   "source": [
    "\n",
    "Analysis:\n",
    "x* = g(x*) = M/x\n",
    "=> x* = M^(1/2)\n",
    "g'(x*) = -M / (x*)^2 = -1\n",
    "|g'(x)| >= 1 thus diverges for all M.\n",
    "\n",
    "For 𝑀=3  and  𝑥0=2, $x=\\sqrt{3}$=1.732, the convergence behavior near the fixed point does not show convergence, as the relative error does not reach machine epsilon and rather oscillates back and forth.\n"
   ]
  },
  {
   "cell_type": "code",
   "execution_count": 9,
   "metadata": {
    "deletable": false,
    "nbgrader": {
     "cell_type": "code",
     "checksum": "564a941d39f88c7cb280a1cc912d4b05",
     "grade": true,
     "grade_id": "cell-9ea67238r9y",
     "locked": false,
     "points": 2,
     "schema_version": 3,
     "solution": true,
     "task": false
    }
   },
   "outputs": [
    {
     "name": "stdout",
     "output_type": "stream",
     "text": [
      "Total number of iterations for relative error to reach machine epsilon was:  51\n",
      "51 50\n"
     ]
    },
    {
     "data": {
      "image/png": "[encoded data removed]",
      "text/plain": [
       "<Figure size 432x288 with 1 Axes>"
      ]
     },
     "metadata": {
      "needs_background": "light"
     },
     "output_type": "display_data"
    }
   ],
   "source": [
    "# Place plotting code here if needed\n",
    "M = 3\n",
    "x0 = 2\n",
    "g = lambda x: M/x\n",
    "\n",
    "plot_convergence(g, x0, 50)"
   ]
  },
  {
   "cell_type": "markdown",
   "metadata": {
    "deletable": false,
    "editable": false,
    "nbgrader": {
     "cell_type": "markdown",
     "checksum": "d41d5129f00d5d1f3b8dceea620547c2",
     "grade": false,
     "grade_id": "cell-253343327982308ufu",
     "locked": true,
     "schema_version": 3,
     "solution": false
    }
   },
   "source": [
    "**(d)** [6] Newton's method\n",
    "$$ g(x) = x - \\frac{f}{f^\\prime}$$\n",
    "\n",
    "with $$ f = x^2 - M$$"
   ]
  },
  {
   "cell_type": "markdown",
   "metadata": {
    "deletable": false,
    "nbgrader": {
     "cell_type": "markdown",
     "checksum": "064fb95869cb3acd441daafd5640ee52",
     "grade": true,
     "grade_id": "cell-340019030oijq234roi",
     "locked": false,
     "points": 4,
     "schema_version": 3,
     "solution": true,
     "task": false
    }
   },
   "source": [
    "Analysis:\n",
    "\n",
    "x* = g(x*) = x* - f(x*) / f'(x*)\n",
    "=> x* = M^(1/2)\n",
    "g\"(x*) = M/(x*)^3 = 1/M^(1/2)\n",
    "|g\"(x*) / 2| < 1 (converges) iff M > 1/4\n",
    "\n",
    "\n",
    "For 𝑀=3  and  𝑥0=2, $x=\\sqrt{3}$=1.732, the convergence behavior near the fixed point shows quadratic convergence, with relative error reaching machine epsilon within around 5 iterations."
   ]
  },
  {
   "cell_type": "code",
   "execution_count": 11,
   "metadata": {
    "deletable": false,
    "nbgrader": {
     "cell_type": "code",
     "checksum": "de8bb72e85c8267066928bf4faaa5e8f",
     "grade": true,
     "grade_id": "cell-9ea67719fouerouh",
     "locked": false,
     "points": 2,
     "schema_version": 3,
     "solution": true,
     "task": false
    }
   },
   "outputs": [
    {
     "name": "stdout",
     "output_type": "stream",
     "text": [
      "Total number of iterations for relative error to reach machine epsilon was:  5\n",
      "5 5\n"
     ]
    },
    {
     "data": {
      "image/png": "[encoded data removed]",
      "text/plain": [
       "<Figure size 432x288 with 1 Axes>"
      ]
     },
     "metadata": {
      "needs_background": "light"
     },
     "output_type": "display_data"
    }
   ],
   "source": [
    "# Place plotting code here if needed\n",
    "\n",
    "# f_prime = 2x\n",
    "# g(x) = x - (x**2 - M) / 2x\n",
    "M = 3\n",
    "x0 = 2\n",
    "g = lambda x: x - ((x**2 - 3) / (2*x) )\n",
    "\n",
    "plot_convergence(g, x0)"
   ]
  },
  {
   "cell_type": "markdown",
   "metadata": {
    "deletable": false,
    "editable": false,
    "nbgrader": {
     "cell_type": "markdown",
     "checksum": "268f820b9f5eab632cd649479bcb3072",
     "grade": false,
     "grade_id": "cell-5084202108adoiu923",
     "locked": true,
     "schema_version": 3,
     "solution": false
    }
   },
   "source": [
    "## Question 2 - Fun with Rootfinders and NewtSafe\n",
    "\n",
    "This problem will explore the behavior of a range of different rootfinding routines against  a more challenging rootfinding problem.  Feel free to use any or all  of the routines presented in class which have been included in an auxiliary python file `rootfinding_optimization_schemes.py`\n",
    "\n",
    "\n",
    "You need to have this file in the same directory with your homework for this notebook to import it."
   ]
  },
  {
   "cell_type": "code",
   "execution_count": 12,
   "metadata": {
    "tags": []
   },
   "outputs": [
    {
     "name": "stdout",
     "output_type": "stream",
     "text": [
      "functions loaded correctly\n"
     ]
    }
   ],
   "source": [
    "#  Cell to import and test at least newton's method from class\n",
    "\n",
    "from  rootfinding_optimization_schemes import newton\n",
    "\n",
    "# set test function and its derivative\n",
    "f = lambda x: numpy.cos(x) - x\n",
    "f_prime = lambda x: -numpy.sin(x) - 1.\n",
    "\n",
    "#set initial guess and call newton\n",
    "x0 = 1.\n",
    "x, x_array = newton(f, f_prime, x0,tol=1.e-12)\n",
    "\n",
    "# run tests\n",
    "answer = 0.7390851332151606\n",
    "N = 5\n",
    "numpy.testing.assert_almost_equal(x, answer)\n",
    "numpy.testing.assert_almost_equal(N, len(x_array))\n",
    "print(\"functions loaded correctly\")"
   ]
  },
  {
   "cell_type": "markdown",
   "metadata": {
    "deletable": false,
    "editable": false,
    "nbgrader": {
     "cell_type": "markdown",
     "checksum": "a32d15febb12107bc3e15a6804e7cddd",
     "grade": false,
     "grade_id": "cell-08d7aa7aa9d9d246",
     "locked": true,
     "schema_version": 3,
     "solution": false,
     "task": false
    },
    "tags": []
   },
   "source": [
    "Consider the function \n",
    "\n",
    "$$\n",
    "    f(x) = \\cos(x) +  N(x, A, \\alpha, \\beta))\n",
    "$$\n",
    "where\n",
    "\n",
    "$$\n",
    "    N(x, A, \\alpha, \\beta) =  A\\left[\\sin(\\alpha x) + \\sin(\\beta x)\\right]\n",
    "$$\n",
    "\n",
    "is a function that adds smooth additive \"noise\" with fixed amplitude $A = 0.05$ and varying frequencies $\\alpha$ and $\\beta$"
   ]
  },
  {
   "cell_type": "markdown",
   "metadata": {
    "deletable": false,
    "editable": false,
    "nbgrader": {
     "cell_type": "markdown",
     "checksum": "aabb69283b8785747e05cf0367042331",
     "grade": false,
     "grade_id": "cell-fadb86c67ee671d2",
     "locked": true,
     "schema_version": 3,
     "solution": false,
     "task": false
    }
   },
   "source": [
    "**(a)** [4] Make a nicely labeled plot to showing the behavior of this function for \n",
    "* $\\alpha = 0.$, $\\beta =0.$\n",
    "* $\\alpha = 4.$, $\\beta =5.$\n",
    "* $\\alpha = 27$, $\\beta = 50$\n",
    "\n",
    "over the domain $x\\in[-2\\pi, 2\\pi]$. Make sure you have enough points to resolve the wiggles.  You should plot all three curves on the same plot"
   ]
  },
  {
   "cell_type": "code",
   "execution_count": 13,
   "metadata": {
    "deletable": false,
    "nbgrader": {
     "cell_type": "code",
     "checksum": "edc7c9bcc180f7f6c5e68c36a482e7ba",
     "grade": true,
     "grade_id": "cell-fadb86c67ee67848gr",
     "locked": false,
     "points": 4,
     "schema_version": 3,
     "solution": true,
     "task": false
    }
   },
   "outputs": [
    {
     "data": {
      "text/plain": [
       "<matplotlib.legend.Legend at 0x7fbedcd4a2e0>"
      ]
     },
     "execution_count": 13,
     "metadata": {},
     "output_type": "execute_result"
    },
    {
     "data": {
      "image/png": "[encoded data removed]",
      "text/plain": [
       "<Figure size 432x288 with 1 Axes>"
      ]
     },
     "metadata": {
      "needs_background": "light"
     },
     "output_type": "display_data"
    }
   ],
   "source": [
    "# same plot\n",
    "\n",
    "x = np.linspace(-2*np.pi, 2*np.pi, 1000)\n",
    "f1 = lambda x: np.cos(x) + 0.05 * (np.sin(0 * x) + np.sin(0 * x))\n",
    "f2 = lambda x: np.cos(x) + 0.05 * (np.sin(4 * x) + np.sin(5 * x))\n",
    "f3 = lambda x: np.cos(x) + 0.05 * (np.sin(27 * x) + np.sin(50 * x))\n",
    "\n",
    "plt.plot(x, f1(x), label='alpha=0 beta=0')\n",
    "plt.plot(x, f2(x), label='alpha=4 beta=5')\n",
    "plt.plot(x, f3(x), label='alpha=27 beta=50')\n",
    "plt.xlabel('x') \n",
    "plt.ylabel('f(x)') \n",
    "plt.title(\"function with smooth noise with fixed amplitude and varying frequencies\")\n",
    "plt.grid()\n",
    "plt.legend()"
   ]
  },
  {
   "cell_type": "markdown",
   "metadata": {
    "deletable": false,
    "editable": false,
    "nbgrader": {
     "cell_type": "markdown",
     "checksum": "3b9302605aa4f4dedadf35490138eeea",
     "grade": false,
     "grade_id": "cell-cfeab33ec7437a33",
     "locked": true,
     "schema_version": 3,
     "solution": false,
     "task": false
    }
   },
   "source": [
    "**(b)** [4] Explore the behavior of the following rootfinding routines \n",
    "* bisection\n",
    "* newton\n",
    "* secant\n",
    "* brentq method using scipy.optimize.root_scalar\n",
    "* **EXTRA CREDIT** any other method used in root_scalar\n",
    "\n",
    "for finding a root of this function, given the bracket $x\\in[x_0, x_1]$ with $x_0 = 0.2$, $x_1 = 2.$ for each ($\\alpha, \\beta$) pair\n",
    "\n",
    "`params = [ (0., 0.), (4., 5.),  (27, 50.) ]`\n",
    "\n",
    "For each routine,  report\n",
    "* the root found $x^*$\n",
    "* the value of $f$ at the root $f(x^*$)\n",
    "* the number of iterations."
   ]
  },
  {
   "cell_type": "code",
   "execution_count": 15,
   "metadata": {
    "deletable": false,
    "nbgrader": {
     "cell_type": "code",
     "checksum": "e4da74b90e3a108cde24c50d129d4a41",
     "grade": true,
     "grade_id": "cell-3d03e0785ba74cee",
     "locked": false,
     "points": 4,
     "schema_version": 3,
     "solution": true,
     "task": false
    }
   },
   "outputs": [
    {
     "name": "stdout",
     "output_type": "stream",
     "text": [
      "alpha is:  0.0 beta is:  0.0\n",
      "\n",
      "Bisection routine: the root found at x* is:  1.570796775817871  the value of f at the root is  -4.490229742968679e-07  and the number of iterations is:  20\n",
      "\n",
      "Newton's Method routine: the root found at x* is:  4.71238898038469  the value of f at the root is  -1.8369701987210297e-16  and the number of iterations is:  5\n",
      "\n",
      "Secant routine: the root found at x* is:  1.5707963267998242  the value of f at the root is  -4.927552640156338e-12  and the number of iterations is:  6\n",
      "\n",
      "Brentq routine: the root found at x* is:  1.5707963267948966  the value of f at the root is  6.123233995736766e-17  and the number of iterations is:  7\n",
      "\n",
      "-----------------------------\n",
      "\n",
      "alpha is:  4.0 beta is:  5.0\n",
      "\n",
      "Bisection routine: the root found at x* is:  1.6304405212402344  the value of f at the root is  1.9620940003295395e-07  and the number of iterations is:  18\n",
      "\n",
      "Newton's Method routine: the root found at x* is:  -14.096326236971352  the value of f at the root is  6.931560738582254e-08  and the number of iterations is:  5\n",
      "\n",
      "Secant routine: the root found at x* is:  1.6304406749277849  the value of f at the root is  6.137287288099369e-08  and the number of iterations is:  7\n",
      "\n",
      "Brentq routine: the root found at x* is:  1.630440744880973  the value of f at the root is  -2.983724378680108e-16  and the number of iterations is:  8\n",
      "\n",
      "-----------------------------\n",
      "\n",
      "alpha is:  27 beta is:  50.0\n",
      "\n",
      "Bisection routine: the root found at x* is:  1.5567201137542725  the value of f at the root is  -3.491439037016375e-08  and the number of iterations is:  22\n",
      "\n",
      "Newton's Method routine: the root found at x* is:  10.94772929731402  the value of f at the root is  -6.529816895528562e-10  and the number of iterations is:  43\n",
      "\n",
      "Secant routine: the root found at x* is:  1.5567201023472799  the value of f at the root is  3.945470060037759e-09  and the number of iterations is:  9\n",
      "\n",
      "Brentq routine: the root found at x* is:  1.5567201035054403  the value of f at the root is  -3.191891195797325e-16  and the number of iterations is:  10\n",
      "\n",
      "-----------------------------\n",
      "\n"
     ]
    }
   ],
   "source": [
    "from rootfinding_optimization_schemes import *\n",
    "from scipy.optimize import root_scalar\n",
    "\n",
    "import sympy\n",
    "#x, y, z = symbols('x y z')\n",
    "#init_printing(use_unicode=True)\n",
    "x = sympy.symbols('x') \n",
    "\n",
    "params = [ (0., 0.), (4., 5.),  (27, 50.) ]\n",
    "x0 = 0.2\n",
    "x1 = 2.\n",
    "\n",
    "for i in range(len(params)):\n",
    "    alpha = params[i][0]\n",
    "    beta = params[i][1]\n",
    "    g = lambda x: sympy.cos(x) + 0.05 * (sympy.sin(alpha * x) + sympy.sin(beta * x))\n",
    "    f = sympy.cos(x) + 0.05 * (sympy.sin(alpha * x) + sympy.sin(beta * x))\n",
    "    f_prime = f.diff(x)\n",
    "    f = sympy.lambdify(x,f)\n",
    "    f_prime = sympy.lambdify(x,f_prime)\n",
    "\n",
    "    print(\"alpha is: \", alpha, \"beta is: \", beta)\n",
    "    \n",
    "    final_midpoint1, bracket_centers1 = bisection(f, x0, x1)\n",
    "    print(\"\\nBisection routine: the root found at x* is: \", final_midpoint1, \" the value of f at the root is \", f(final_midpoint1), \" and the number of iterations is: \", len(bracket_centers1))\n",
    "    \n",
    "    final_midpoint2, bracket_centers2 = newton(f, f_prime, x0)\n",
    "    print(\"\\nNewton's Method routine: the root found at x* is: \", final_midpoint2, \" the value of f at the root is \", f(final_midpoint2), \" and the number of iterations is: \", len(bracket_centers2))\n",
    "    \n",
    "    \n",
    "    final_midpoint3, bracket_centers3 = secant(f, x0, x1)\n",
    "    print(\"\\nSecant routine: the root found at x* is: \", final_midpoint3, \" the value of f at the root is \", f(final_midpoint3), \" and the number of iterations is: \", len(bracket_centers3))\n",
    "    \n",
    "    \n",
    "    sol = root_scalar(f, bracket=(x0, x1),method='brentq')\n",
    "    print(\"\\nBrentq routine: the root found at x* is: \", sol.root, \" the value of f at the root is \", f(sol.root), \" and the number of iterations is: \", sol.iterations)\n",
    "\n",
    "    print(\"\\n-----------------------------\\n\")\n",
    "    "
   ]
  },
  {
   "cell_type": "markdown",
   "metadata": {
    "deletable": false,
    "editable": false,
    "nbgrader": {
     "cell_type": "markdown",
     "checksum": "4ed9f634a22a3aaf8cb2b524c119f3b9",
     "grade": false,
     "grade_id": "cell-d6c0204318b16a38",
     "locked": true,
     "schema_version": 3,
     "solution": false,
     "task": false
    }
   },
   "source": [
    "**(c)** [4] Make a convergence plot showing the relative error at each step for Newton's method for the same three parameter pairs and initial guess $x_0 = 0.2$.  Hint: your convergence plots should use `semilogy` for clearest results.  Again put all your results on one plot and label things well"
   ]
  },
  {
   "cell_type": "code",
   "execution_count": 65,
   "metadata": {
    "deletable": false,
    "nbgrader": {
     "cell_type": "code",
     "checksum": "712e8203de014a4d1bff6c5d3589f974",
     "grade": true,
     "grade_id": "cell-03e97ced4d02bc89",
     "locked": false,
     "points": 4,
     "schema_version": 3,
     "solution": true,
     "task": false
    }
   },
   "outputs": [
    {
     "name": "stdout",
     "output_type": "stream",
     "text": [
      "0.0 0.0\n",
      "4.0 5.0\n",
      "27 50.0\n"
     ]
    },
    {
     "data": {
      "image/png": "[encoded data removed]",
      "text/plain": [
       "<Figure size 432x288 with 1 Axes>"
      ]
     },
     "metadata": {
      "needs_background": "light"
     },
     "output_type": "display_data"
    }
   ],
   "source": [
    "def rel_errors(x_final, x_arr):\n",
    "    r = np.array(np.abs((x_final-x_arr)/x_final)) # relative error\n",
    "    return r\n",
    "\n",
    "if __name__ == '__main__':\n",
    "    x0 = 0.2\n",
    "    x = sympy.symbols('x') \n",
    "    params = [ (0., 0.), (4., 5.),  (27, 50.) ]\n",
    "    for i in range(len(params)):\n",
    "        alpha = params[i][0]\n",
    "        beta = params[i][1]\n",
    "        print(alpha, beta)\n",
    "        g = lambda x: sympy.cos(x) + 0.05 * (sympy.sin(alpha * x) + sympy.sin(beta * x))\n",
    "        f = sympy.cos(x) + 0.05 * (sympy.sin(alpha * x) + sympy.sin(beta * x))\n",
    "        \n",
    "        f_prime = f.diff(x)\n",
    "        f = sympy.lambdify(x,f)\n",
    "        f_prime = sympy.lambdify(x,f_prime)\n",
    "\n",
    "        x_final, x_arr = newton(f, f_prime, x0)\n",
    "        rel = rel_errors(x_final, x_arr)\n",
    "        no_iters = [i for i in range(len(x_arr))]\n",
    "        plt.semilogy(no_iters, rel, label=f'alpha={alpha} beta={beta}')\n",
    "    plt.plot()\n",
    "    plt.xlabel('no. iterations') \n",
    "    plt.ylabel('relative error') \n",
    "    plt.legend()\n",
    "    plt.grid()"
   ]
  },
  {
   "cell_type": "markdown",
   "metadata": {
    "deletable": false,
    "editable": false,
    "nbgrader": {
     "cell_type": "markdown",
     "checksum": "2df03ce3234624a2a1c2d6b521634126",
     "grade": false,
     "grade_id": "cell-688d9772c0ee0353",
     "locked": true,
     "schema_version": 3,
     "solution": false,
     "task": false
    }
   },
   "source": [
    "**(d)** [4] Briefly explain your results so far for all the methods.  Feel free to play with other initial parameters or to make additional plots.  "
   ]
  },
  {
   "cell_type": "markdown",
   "metadata": {
    "deletable": false,
    "nbgrader": {
     "cell_type": "markdown",
     "checksum": "2fd45f3d0ef415e1263944f18cb82175",
     "grade": true,
     "grade_id": "cell-0d30efbc8418cd82",
     "locked": false,
     "points": 4,
     "schema_version": 3,
     "solution": true,
     "task": false
    }
   },
   "source": [
    "At (27,50) the results take much longer to converge, whereas at (0,0) and (4,5) the results are able to converge faster."
   ]
  },
  {
   "cell_type": "markdown",
   "metadata": {
    "deletable": false,
    "editable": false,
    "nbgrader": {
     "cell_type": "markdown",
     "checksum": "db197de596ae1a5191790bc36a15b67c",
     "grade": false,
     "grade_id": "cell-b46861a6140bb51d",
     "locked": true,
     "schema_version": 3,
     "solution": false,
     "task": false
    }
   },
   "source": [
    "**(e)** [6] Write a controlled Newton routine `NewtSafe`,  that finds a root with an initial bracket by combining newton steps with a bisection routine.  The basic algorithm is to first try Newton from the midpoint of the bracket.  If Newton predicts a solution outside of the bracket, ignore it and take a bisection step instead.  You can use and modify any of the rootfinding routines I presented in class, but write a decent docstring and raise appropriate exceptions as necessary. \n",
    "\n",
    "The routine should return the best estimate of the root and number of Newton Steps and the number of bisection steps\n",
    "\n",
    "`x, N_newt, N_bisection = newtsafe(f, f_prime, a, b)`"
   ]
  },
  {
   "cell_type": "code",
   "execution_count": 49,
   "metadata": {
    "deletable": false,
    "nbgrader": {
     "cell_type": "code",
     "checksum": "c064de33e8e33bb749259d97e0fb04a1",
     "grade": false,
     "grade_id": "cell-a20f6d1abec7c19d",
     "locked": false,
     "schema_version": 3,
     "solution": true,
     "task": false
    }
   },
   "outputs": [],
   "source": [
    "def newtsafe(f,f_prime,a,b,tol = 1.e-6, max_steps=1000):\n",
    "    \"\"\" Please improve this docstring\n",
    "        \n",
    "    \n",
    "    Parameters:\n",
    "    -----------\n",
    "    \n",
    "    f: function (float)\n",
    "        function returning f(x)\n",
    "    f_prime:  function (float)\n",
    "        function returning derivative of f with respect to x\n",
    "    a: float\n",
    "        left bracket a < x\n",
    "    b: float\n",
    "        right bracket x < b\n",
    "        \n",
    "        Note:  the signs of f(a) and f(b) must be different to insure a bracket\n",
    "    tol: float\n",
    "        tolerance.  Returns when |f(x)| < tol\n",
    "    max_steps: int\n",
    "        maximum number of iteration steps\n",
    "        \n",
    "    Returns:\n",
    "    --------\n",
    "    x: float\n",
    "        midpoint of final bracket\n",
    "    n_newt:  number of newton steps for successful newton iteration\n",
    "    n_bisection: number of bisection steps\n",
    "        \n",
    "    Raises:\n",
    "    -------\n",
    "    ValueError:  \n",
    "        if initial bracket is invalid \n",
    "    Warning: \n",
    "        if number of iterations exceed MAX_STEPS\n",
    "    Prints warning if Newton exceeds the bracket\n",
    "    \n",
    "    \"\"\"\n",
    "    n_newt = n_bisection = 0    \n",
    "\n",
    "    x = (a + b) / 2.0 # take the midpoint as the starting point\n",
    "    x_array = [ x ]\n",
    "    \n",
    "    if np.sign(f(a)) == np.sign(f(b)):\n",
    "        raise ValueError(\"f(a) and f(b) must have different signs\")\n",
    "    \n",
    "    for newton_step in range(1, max_steps+1):\n",
    "        if np.abs(f(x)) < tol:\n",
    "            break\n",
    "        x_new = x - f(x) / f_prime(x)\n",
    "            \n",
    "        if x_new < a or x_new > b:\n",
    "            n_bisection += 1\n",
    "            if np.sign(f(a)) != np.sign(f(x)):\n",
    "                b = x\n",
    "            else:\n",
    "                a = x\n",
    "            delta_x = b - a\n",
    "            x_new = a + delta_x / 2.0\n",
    "        else:\n",
    "            n_newt += 1\n",
    "\n",
    "        x = x_new\n",
    "        x_array.append(x)\n",
    "\n",
    "    \n",
    "    return x, n_newt, n_bisection\n",
    "        \n",
    "    \n",
    "    \n",
    "# YOUR CODE HERE\n",
    "# for loop, each run is a step\n",
    "# range(0, max_steps + 1)\n",
    "# start at the middle of the bracket, that's the x0\n",
    "# if the guess is outside of the bounds then reject, instead copy bisection method\n",
    "# call newton at beginning of bracket, if outside, reject, if guesses \n",
    "\n"
   ]
  },
  {
   "cell_type": "code",
   "execution_count": 50,
   "metadata": {},
   "outputs": [],
   "source": [
    "# you can play with your code here"
   ]
  },
  {
   "cell_type": "code",
   "execution_count": 51,
   "metadata": {
    "deletable": false,
    "editable": false,
    "nbgrader": {
     "cell_type": "code",
     "checksum": "a0fc4358c1096461564e6e35cea822ab",
     "grade": true,
     "grade_id": "cell-7cdbdbda9ca86f82",
     "locked": true,
     "points": 6,
     "schema_version": 3,
     "solution": false,
     "task": false
    }
   },
   "outputs": [
    {
     "name": "stdout",
     "output_type": "stream",
     "text": [
      "Bracket  = [-0.68309670780092, 2.642524050776319]\n",
      "Newton   = 1.27194847295657,    N   = 3\n",
      "NewtSafe = 1.27194847295657,    N_n = 3, N_b = 0\n",
      "brentq   = 1.2719484732512498,    N   = 9\n",
      "\n",
      "Bracket  = [-0.7104536143852529, 3.8152626763086603]\n",
      "Newton   = -23.8662065317763,    N   = 7\n",
      "NewtSafe = 1.0884990113244402,    N_n = 3, N_b = 2\n",
      "brentq   = 1.088499013515958,    N   = 13\n",
      "\n",
      "Bracket  = [-0.5236057894835726, 3.9067882124238986]\n",
      "Newton   = -10.863477689404652,    N   = 11\n",
      "NewtSafe = 1.1106142646362411,    N_n = 5, N_b = 1\n",
      "brentq   = 1.1106142646873127,    N   = 11\n",
      "\n",
      "Bracket  = [-0.5275356434135271, 2.4988039593212776]\n",
      "Newton   = 1.3248590962279085,    N   = 3\n",
      "NewtSafe = 1.3248590962279085,    N_n = 3, N_b = 0\n",
      "brentq   = 1.3248590968150393,    N   = 9\n",
      "\n",
      "Bracket  = [-0.3534683303763972, 3.9130408021252014]\n",
      "Newton   = 1.1473182519095415,    N   = 10\n",
      "NewtSafe = 1.1473181573836526,    N_n = 6, N_b = 1\n",
      "brentq   = 1.1473182519138232,    N   = 9\n",
      "\n",
      "f(a) and f(b) must have different signs\n",
      "success!\n"
     ]
    }
   ],
   "source": [
    "# Testing Cell\n",
    "from  rootfinding_optimization_schemes import newton\n",
    "from scipy.optimize import root_scalar\n",
    "\n",
    "a = 27\n",
    "b = 50\n",
    "A = 0.3\n",
    "f = lambda x: numpy.cos(x) + A*(numpy.sin(a * x) + numpy.sin(b * x))\n",
    "f_prime = lambda x: -numpy.sin(x) + A*(a*numpy.cos(a * x) + b*numpy.cos(b * x))\n",
    "\n",
    "pi = numpy.pi\n",
    "\n",
    "brackets = [ \n",
    "            (-0.68309670780092, 2.642524050776319),\n",
    "            (-0.7104536143852529, 3.8152626763086603),\n",
    "            (-0.5236057894835726, 3.9067882124238986),\n",
    "            (-0.5275356434135271, 2.4988039593212776),\n",
    "            (-0.3534683303763972, 3.9130408021252014)\n",
    "           ]\n",
    "\n",
    "for bracket in brackets:\n",
    "    #a = numpy.random.uniform(low=-pi/4, high=pi/4)\n",
    "    #b = numpy.random.uniform(low=3*pi/4, high=5*pi/4)\n",
    "    a = bracket[0]\n",
    "    b = bracket[1]\n",
    "    x_n, x_array = newton(f, f_prime, (a + b)/2.)\n",
    "    x_ns, N_n, N_b = newtsafe(f, f_prime, a, b)\n",
    "    sol = root_scalar(f, bracket=(a, b),method='brentq')\n",
    "    print('Bracket  = [{}, {}]'.format(a, b))\n",
    "    print('Newton   = {},    N   = {}'.format(x_n, len(x_array)-1))\n",
    "    print('NewtSafe = {},    N_n = {}, N_b = {}'.format(x_ns, N_n, N_b))\n",
    "    print('brentq   = {},    N   = {}'.format(sol.root, sol.iterations))\n",
    "    print()\n",
    "    numpy.testing.assert_almost_equal(x_ns, sol.root,decimal=5)\n",
    "    \n",
    "try:\n",
    "    x_ns, N_n, N_b = newtsafe(f, f_prime, 1.6, 2.0)\n",
    "except ValueError as err:\n",
    "    print(err)\n",
    "    pass\n",
    "\n",
    "print('success!')\n"
   ]
  },
  {
   "cell_type": "markdown",
   "metadata": {
    "deletable": false,
    "editable": false,
    "nbgrader": {
     "cell_type": "markdown",
     "checksum": "6ff9cfc557769fb0e0cd3151689d9310",
     "grade": false,
     "grade_id": "cell-508420840igovo948yh23",
     "locked": true,
     "schema_version": 3,
     "solution": false
    }
   },
   "source": [
    "## Question 3 - Solve a \"real\" rootfinding problem\n",
    "\n",
    "In Homework 2, I asked you to *estimate* the number of terms in the taylor expansion of $e^x$ such that the relative error was less than $\\epsilon_{mach}$.  This was essentially a non-linear problem in the number of steps $n$.  Here we will use a rootfinder to get this number more precisely."
   ]
  },
  {
   "cell_type": "markdown",
   "metadata": {
    "deletable": false,
    "editable": false,
    "nbgrader": {
     "cell_type": "markdown",
     "checksum": "0c5da29bd8798f54998030d92df5ac1d",
     "grade": false,
     "grade_id": "cell-3f4f0535e4abc84f",
     "locked": true,
     "schema_version": 3,
     "solution": false,
     "task": false
    }
   },
   "source": [
    "**(a)** [8] provide a numerical solution for the number of terms $n$ in the Taylor polynomial expansion of exp(x) (i.e. $T_N(x))$ such that the relative error is\n",
    "\n",
    "$$\n",
    "    r = \\left| \\frac{x^{n+1}}{(n + 1)!} \\right| \\approx \\epsilon_{mach}\n",
    "$$ \n",
    "\n",
    "Give solutions for x = 0.1, 1., 10. ,100. , 709., 1000. and compare your numerical solution to the approximate solution given in last homework \n",
    "\n",
    "$$\n",
    "    n > e*x\n",
    "$$\n",
    "\n",
    "by calculating the relative error between the your numerical solution and your simpler estimate.\n",
    "\n",
    "Note: To make this problem easier, just use Stirling’s approximation $\\log(n!) \\approx n \\log n − n$. which will work quite well.  However, for a little bit of extra credit solve this for the full problem and compare solutions.\n"
   ]
  },
  {
   "cell_type": "markdown",
   "metadata": {
    "deletable": false,
    "nbgrader": {
     "cell_type": "markdown",
     "checksum": "b68b95d0b33a72562c80bc1c8831d3ac",
     "grade": true,
     "grade_id": "cell-8fc4ebbf43da6dff",
     "locked": false,
     "points": 4,
     "schema_version": 3,
     "solution": true,
     "task": false
    }
   },
   "source": [
    "YOUR ANSWER HERE"
   ]
  },
  {
   "cell_type": "code",
   "execution_count": 63,
   "metadata": {
    "deletable": false,
    "nbgrader": {
     "cell_type": "code",
     "checksum": "11099c9f28135df32eed257aca68662a",
     "grade": true,
     "grade_id": "cell-963aac8426927a48",
     "locked": false,
     "points": 4,
     "schema_version": 3,
     "solution": true,
     "task": false
    }
   },
   "outputs": [
    {
     "name": "stdout",
     "output_type": "stream",
     "text": [
      "0.27182818284590454 27.18281828459045\n",
      "relative error is:  8.99825226361313  simpler estimate is  0.27182818284590454\n",
      "2.718281828459045 271.8281828459045\n",
      "relative error is:  17.69326017986983  simpler estimate is  2.718281828459045\n",
      "27.18281828459045 2718.281828459045\n",
      "relative error is:  52.39200282157356  simpler estimate is  27.18281828459045\n",
      "271.8281828459045 19272.61816377463\n",
      "relative error is:  304.82890183560164  simpler estimate is  271.8281828459045\n",
      "1927.261816377463 27182.818284590452\n",
      "relative error is:  1961.9765738907563  simpler estimate is  1927.261816377463\n"
     ]
    }
   ],
   "source": [
    "# from hw1:\n",
    "\n",
    "def Tn_exp(x):\n",
    "\n",
    "    assert(isinstance(x,float))\n",
    "    \n",
    "    x_neg = x < 0\n",
    "    x = abs(x) \n",
    "    \n",
    "    eps = numpy.finfo(float).eps\n",
    "    tolerance = 8 * eps\n",
    "    \n",
    "    MAX_N = 120\n",
    "    p = [1/factorial(n) for n in range(MAX_N)][::-1]\n",
    "    \n",
    "    y = p[0]\n",
    "    for coefficient in p[1:]: \n",
    "        y = y * x + coefficient\n",
    "    \n",
    "    Tn = y\n",
    "    if x_neg:\n",
    "        Tn = 1/Tn\n",
    "    \n",
    "    return Tn, MAX_N\n",
    "\n",
    "\n",
    "# assume x is positive and that n is large\n",
    "\n",
    "from scipy.optimize import root_scalar\n",
    "\n",
    "eps = np.finfo(float).eps\n",
    "x_vals = [0.1, 1., 10., 100., 709., 1000.]\n",
    "\n",
    "for i in range(len(x_vals) - 1):\n",
    "    a = x_vals[i] * np.exp(1)\n",
    "    b = x_vals[i+1] * np.exp(1) * 10\n",
    "    f = lambda n: (n+1)*np.log(x_vals[i]) - (n+1)*np.log(n+1) + (n+1) - np.log(eps)\n",
    "    n_estimate = np.exp(1)*x_vals[i]\n",
    "    print(a, b)\n",
    "    sol = root_scalar(f, bracket=(a, b),method='brentq')\n",
    "    r = abs(sol.root-n_estimate)/abs(sol.root)\n",
    "    print(\"relative error is: \", sol.root, \" simpler estimate is \", n_estimate)\n",
    "    "
   ]
  }
 ],
 "metadata": {
  "kernelspec": {
   "display_name": "Python 3",
   "language": "python",
   "name": "python3"
  },
  "language_info": {
   "codemirror_mode": {
    "name": "ipython",
    "version": 3
   },
   "file_extension": ".py",
   "mimetype": "text/x-python",
   "name": "python",
   "nbconvert_exporter": "python",
   "pygments_lexer": "ipython3",
   "version": "3.8.8"
  }
 },
 "nbformat": 4,
 "nbformat_minor": 4
}
