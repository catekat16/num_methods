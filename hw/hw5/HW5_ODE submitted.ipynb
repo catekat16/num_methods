{
 "cells": [
  {
   "cell_type": "markdown",
   "metadata": {},
   "source": [
    "Before you turn this problem in, make sure everything runs as expected. First, **restart the kernel** (in the menubar, select Kernel$\\rightarrow$Restart) and then **run all cells** (in the menubar, select Cell$\\rightarrow$Run All).\n",
    "\n",
    "Make sure you fill in any place that says `YOUR CODE HERE` or \"YOUR ANSWER HERE\", as well as any collaborators you worked with:"
   ]
  },
  {
   "cell_type": "code",
   "execution_count": 4,
   "metadata": {},
   "outputs": [],
   "source": [
    "COLLABORATORS = \"N/A\""
   ]
  },
  {
   "cell_type": "markdown",
   "metadata": {},
   "source": [
    "---"
   ]
  },
  {
   "cell_type": "code",
   "execution_count": 5,
   "metadata": {},
   "outputs": [],
   "source": [
    "from __future__ import print_function\n",
    "%matplotlib inline\n",
    "%precision 16\n",
    "import numpy\n",
    "import matplotlib.pyplot as plt\n",
    "from scipy.integrate import solve_ivp\n",
    "\n",
    "from stability_diagrams import plot_stability_ssms\n",
    "from stability_diagrams import plot_stability_lmm"
   ]
  },
  {
   "cell_type": "markdown",
   "metadata": {
    "deletable": false,
    "editable": false,
    "nbgrader": {
     "cell_type": "markdown",
     "checksum": "9d5d2b9b0032a51cbbd23829dbd4fb26",
     "grade": false,
     "grade_id": "cell-6282430347078978",
     "locked": true,
     "schema_version": 3,
     "solution": false
    }
   },
   "source": [
    "# HW 5:  ODE Methods - Initial Value Problems\n",
    "\n",
    "These questions will use a mixture of scipy routines and hand-rolled ODE solver methods (which you can use from the notes)"
   ]
  },
  {
   "cell_type": "markdown",
   "metadata": {
    "deletable": false,
    "editable": false,
    "nbgrader": {
     "cell_type": "markdown",
     "checksum": "6d3f50205a301f054a0661bf8eccf775",
     "grade": false,
     "grade_id": "cell-97c426ce43130f77",
     "locked": true,
     "schema_version": 3,
     "solution": false,
     "task": false
    }
   },
   "source": [
    "## Question 1 - The SIR model for Infectious diseases\n",
    "\n",
    "ODE based models are a classical approach to understanding the spread of infectious diseases.\n",
    "\n",
    "One of the pioneering models is the SIR model of [Kermack and McKendrick, (1927)](https://royalsocietypublishing.org/doi/10.1098/rspa.1927.0118) which is a mean-field theory for large populations that assumes the general population can be divided into three subgroups\n",
    "\n",
    "* $S$: the number of susceptible patients\n",
    "* $I$: the number of infected patients\n",
    "* $R$: the number of recovered (or otherwise) patients\n",
    "\n",
    "Given these definitions, the simplest dynamical systems for the three populations can be written\n",
    "\n",
    "$$\n",
    "\\begin{aligned}\n",
    "\\frac{d S}{dt} &= -\\alpha SI \\\\\n",
    "\\frac{d I}{dt} &= \\alpha SI -\\beta I\\\\\n",
    "\\frac{d R}{dt} &= \\beta I \\\\\n",
    "\\end{aligned}\n",
    "$$\n",
    "\n",
    "where $\\alpha$ is the infection rate per person, and $\\beta$ is the recovery rate (hint: check the units) \n",
    "\n",
    "This is the original Kermack and McKendrick model.  We will discuss a host of themes and variations later.  If you are interested [Siettos and Russo, (2013)](https://doi.org/10.4161/viru.24041) provides a short overview of the much larger field of epidemiology modeling (although this paper has some significant mistakes with respect to the analysis of the Kermack and McKendrick model, and I'm sure there are considerably more papers on modeling epidemics now).\n",
    "\n",
    "We will explore this problem through a combination of Analysis and Numerical methods and to use it to test different methods for ODE solvers.\n"
   ]
  },
  {
   "cell_type": "markdown",
   "metadata": {
    "deletable": false,
    "editable": false,
    "nbgrader": {
     "cell_type": "markdown",
     "checksum": "9d56e0a3dcd650ebafd65482f9f8284c",
     "grade": false,
     "grade_id": "cell-d57d5cccd5fe437a",
     "locked": true,
     "schema_version": 3,
     "solution": false,
     "task": false
    }
   },
   "source": [
    "**(a)** [4] First try to explain in words,  what this system of ODE's describes"
   ]
  },
  {
   "cell_type": "markdown",
   "metadata": {
    "deletable": false,
    "hide_input": true,
    "nbgrader": {
     "cell_type": "markdown",
     "checksum": "3a50bb5fe5e3cea6be689f0f83eba3d5",
     "grade": true,
     "grade_id": "cell-78f1cbd4419916a6",
     "locked": false,
     "points": 4,
     "schema_version": 3,
     "solution": true,
     "task": false
    }
   },
   "source": [
    "The model represents the rate at which the population becomes susceptible to infection, infected, and recovered. According to this model, the course of an infection of a population depends on the infection rate per person (here it's assumed that this rate is the same for each person), along with the recovery rate (which also doesn't take into account demographics, health backgrounds, living environments for each person). "
   ]
  },
  {
   "cell_type": "markdown",
   "metadata": {
    "deletable": false,
    "editable": false,
    "nbgrader": {
     "cell_type": "markdown",
     "checksum": "560e626bedbdf30b4de0409b4266bb04",
     "grade": false,
     "grade_id": "cell-c02805feb94b785b",
     "locked": true,
     "schema_version": 3,
     "solution": false,
     "task": false
    }
   },
   "source": [
    "### Some analysis.  \n",
    "\n",
    "Here we will conduct some elementary dimensional analysis to reduce the parameter space.  More detailed analysis of this system can be found  in Steve Strogatz' excellent text on [dynamical systems](https://smile.amazon.com/Nonlinear-Dynamics-Chaos-Applications-Nonlinearity/dp/0813349109/ref=dp_ob_image_bk)"
   ]
  },
  {
   "cell_type": "markdown",
   "metadata": {
    "deletable": false,
    "editable": false,
    "nbgrader": {
     "cell_type": "markdown",
     "checksum": "e0ff12772c25324e8cf54b989bfe15a1",
     "grade": false,
     "grade_id": "cell-28b8298c72a5a12c",
     "locked": true,
     "schema_version": 3,
     "solution": false,
     "task": false
    }
   },
   "source": [
    "**(b)** [2] Show that the SIR equations imply that   $S + I + R = N$  where $N$ is a constant (the total population of susceptible people that can all interact)"
   ]
  },
  {
   "cell_type": "markdown",
   "metadata": {
    "deletable": false,
    "nbgrader": {
     "cell_type": "markdown",
     "checksum": "f2f763bc3313b8cace5cadf627a502d3",
     "grade": true,
     "grade_id": "cell-0faef9786658c554",
     "locked": false,
     "points": 2,
     "schema_version": 3,
     "solution": true,
     "task": false
    }
   },
   "source": [
    "$$\n",
    "\\begin{align}\n",
    "S &= \\int \\frac{d\\mathbf{S}}{d \\tau} = \\int - \\alpha S I d\\tau = - \\alpha S I t + C_1 \\\\\n",
    "I &= \\int \\frac{d\\mathbf{I}}{d \\tau} = \\int \\alpha S I - \\beta I d\\tau = \\alpha S I t - \\beta I t + C_2 \\\\\n",
    "R &= \\int \\frac{d\\mathbf{R}}{d \\tau} = \\int \\beta I d\\tau = \\beta I t + C_3 \\\\\n",
    "\\end{align}\n",
    "$$\n",
    "where $C_1, C_2, \\text{and } C_3$ are constants\n",
    "\n",
    "$$\n",
    "S + I + R = (-\\alpha S I t + C_1) + (\\alpha S I t - \\beta I t + C_2) + (\\beta I t + C_3) = C_1 + C_2 + C_3, \\text{which is a constant}\n",
    "$$\n",
    "\n",
    "$$\n",
    "\\text{So therefore } S + I + R = C_1 + C_2 + C_3 \\text{ can be rewritten as } S + I + R = N, \\text{where } N \\text{ is a constant} \n",
    "$$"
   ]
  },
  {
   "cell_type": "markdown",
   "metadata": {
    "deletable": false,
    "editable": false,
    "nbgrader": {
     "cell_type": "markdown",
     "checksum": "3a58cb6d7898d03ebb9587b9b4fda4b1",
     "grade": false,
     "grade_id": "cell-b89ec7cd57121b35",
     "locked": true,
     "schema_version": 3,
     "solution": false,
     "task": false
    }
   },
   "source": [
    "**(c)**  [4] Show that under  the change of variables (linear scaling of the variables)\n",
    "\n",
    "$$\n",
    "\\begin{matrix}\n",
    "    S = N s, & I = Ni, & R = Nr, & t = \\tau\\frac{1}{\\alpha N} \\\\\n",
    "\\end{matrix}\n",
    "$$\n",
    "\n",
    "The original equations can be rewritten as the scaled equations \n",
    "\n",
    "$$\n",
    "\\begin{align}\n",
    "    \\frac{d s}{d\\tau} &= -si\\\\\n",
    "    \\frac{d i}{d\\tau} &= (s - s^*)i  \\\\\n",
    "    \\frac{d r}{d\\tau} & = s^* i \\\\\n",
    "\\end{align}\n",
    "$$\n",
    "\n",
    "where \n",
    "$$\n",
    "    s^* = \\frac{\\beta}{\\alpha N}\n",
    "$$\n",
    "\n",
    "\n",
    "\n",
    "**Notes**,  \n",
    "* if we write $s = S/N$ etc. then $s$ is simply the fraction of the total population that is susceptible.  \n",
    "* Also show that $s + i + r = 1$.\n",
    "* this scaling reduces a two-parameter problem to a one parameter problem where the only variable is $s^*$\n",
    "\n"
   ]
  },
  {
   "cell_type": "markdown",
   "metadata": {
    "deletable": false,
    "nbgrader": {
     "cell_type": "markdown",
     "checksum": "8c3c68b4bd0e77099fcee9fcae1a50a3",
     "grade": true,
     "grade_id": "cell-6f14e3bb8e908989",
     "locked": false,
     "points": 4,
     "schema_version": 3,
     "solution": true,
     "task": false
    }
   },
   "source": [
    "$$\n",
    "\\begin{matrix}\n",
    "    S = N s, & I = Ni, & R = Nr, & t = \\tau\\frac{1}{\\alpha N} \\\\\n",
    "\\end{matrix}\n",
    "$$\n",
    "\n",
    "writing $\\frac{\\beta}{\\alpha N}$ as $s^*,$\n",
    "\n",
    "$$\n",
    "\\begin{align}\n",
    "    \\frac{d s}{d\\tau} &= -si \\\\\n",
    "    \\frac{d i}{d\\tau} &= si - \\frac{\\beta i}{\\alpha N} = i(s - \\frac{\\beta}{\\alpha N}) = i(s - s^*)\\\\\n",
    "    \\frac{d r}{d\\tau} &= \\frac{\\beta i}{\\alpha N} = s^* i \\\\\n",
    "\\end{align}\n",
    "$$\n",
    "\n",
    "solving for $s, i,$ and $r$ in terms of constants and the one variable $s^*$,\n",
    "\n",
    "\n",
    "$$\n",
    "\\begin{align}\n",
    "&\\text{before: } S = - \\alpha S I t + C_1 \\\\ \n",
    "&\\text{after: }  S = sN = -\\alpha s N I t + C_1 = - \\alpha s N (Ni)(\\tau \\frac{1}{\\alpha N}) + C_1 = -s N i \\tau + C_1 \\\\\n",
    "&  s = - s i \\tau + K_1 \\\\\n",
    "\\\\&\\text{before: } I =\\alpha S I t - \\beta I t + C_2 \\\\\n",
    "&\\text{after: }  I = Ni = \\alpha s N N i \\tau \\frac{1}{\\alpha N} - \\beta N i \\tau \\frac{1}{\\alpha N} + C_2 = s N i \\tau - \\frac{\\beta i \\tau}{\\alpha} + C_2 \\\\\n",
    "& i = s i \\tau - \\frac{\\beta i \\tau}{\\alpha N} + K_2 \\\\\n",
    "\\\\&\\text{before: } R = \\beta I t + C_3 \\\\\n",
    "&\\text{after: }  R = Nr = \\beta N i \\tau \\frac{1}{\\alpha N} + C_3 = \\frac{\\beta i \\tau}{\\alpha} + C_3 \\\\\n",
    "& r = \\frac {\\beta i \\tau}{\\alpha N} + K_3\n",
    "\\end{align}\n",
    "$$\n",
    "\n",
    "where $K_1, K_2,$ and $K_3$ are constants\n",
    "\n",
    "$$ \n",
    "\\text{to show } s + i + r = 1, \\text{ we can write } s + i + r \\text{ as } \\frac{S}{N} + \\frac{I}{N} + \\frac{R}{N} = \\frac{S+I+R}{N} = \\frac{N}{N} = 1 \n",
    "$$\n"
   ]
  },
  {
   "cell_type": "markdown",
   "metadata": {
    "deletable": false,
    "editable": false,
    "nbgrader": {
     "cell_type": "markdown",
     "checksum": "17cba206e05e72a92b6b537e5e13f9f4",
     "grade": false,
     "grade_id": "cell-46af647b89cac330",
     "locked": true,
     "schema_version": 3,
     "solution": false,
     "task": false
    }
   },
   "source": [
    "**(d)**  [2] Given that $s^*$ is a constant that only depends on the infection rate per capita $\\alpha$, the recovery rate $\\beta$ and the total population $N$,  interpret the equation for the change in the number of infections\n",
    "\n",
    "$$\n",
    "    \\frac{d i}{d\\tau} = (s - s^*) i\n",
    "$$\n",
    "as a function of the susceptible fraction of the population $s$."
   ]
  },
  {
   "cell_type": "markdown",
   "metadata": {
    "deletable": false,
    "nbgrader": {
     "cell_type": "markdown",
     "checksum": "ab726ca04cc86cb954bcf52e38069414",
     "grade": true,
     "grade_id": "cell-40ede972a75cd41a",
     "locked": false,
     "points": 2,
     "schema_version": 3,
     "solution": true,
     "task": false
    }
   },
   "source": [
    "The rate in the number of infections depends on the susceptible fraction of the population s, the infection rate per capita $\\alpha$, the recovery rate $\\beta$, the total poulation N, and the number of infections. "
   ]
  },
  {
   "cell_type": "markdown",
   "metadata": {
    "deletable": false,
    "editable": false,
    "nbgrader": {
     "cell_type": "markdown",
     "checksum": "f14f45e92d83b36ddd331cadf0135ee5",
     "grade": false,
     "grade_id": "cell-4ecd957efe129fa5",
     "locked": true,
     "schema_version": 3,
     "solution": false,
     "task": false
    }
   },
   "source": [
    "### Numerical Methods\n",
    "\n",
    "we will now explore the behavior of this model numerically using a range of our basic algorithms by solving the scaled dynamical system\n",
    "\n",
    "$$\n",
    "    \\frac{d\\mathbf{u}}{dt} = \\mathbf{F}(t,\\mathbf{u}, s^*),\\quad\\mathbf{u}(0)=\\mathbf{u}_0\n",
    "$$\n",
    "\n",
    "where \n",
    "$$\n",
    "    \\mathbf{u} = \\begin{bmatrix} s \\\\ i \\\\ r \\\\ \\end{bmatrix}, \\quad \n",
    "    \\mathbf{F}(t,\\mathbf{u},s^*) = \\begin{bmatrix} -si \\\\ (s - s^*)i \\\\ s^*i \\\\ \\end{bmatrix}\n",
    "$$"
   ]
  },
  {
   "cell_type": "markdown",
   "metadata": {},
   "source": [
    "**(e)** [4] Write function to return the RHS of the scaled dynamical system $\\mathbf{F}(t,\\mathbf{u},s^*)$ as a numpy array"
   ]
  },
  {
   "cell_type": "code",
   "execution_count": 6,
   "metadata": {
    "deletable": false,
    "hide_input": false,
    "nbgrader": {
     "cell_type": "code",
     "checksum": "97094ce0210c5618cf05d1e6a2782f90",
     "grade": false,
     "grade_id": "cell-262f28b1e5913ee6",
     "locked": false,
     "schema_version": 3,
     "solution": true,
     "task": false
    }
   },
   "outputs": [],
   "source": [
    "import numpy as np\n",
    "\n",
    "def F(t, u, s_star):\n",
    "    \"\"\" RHS of scaled SIR model of Kermack and McKendrick\n",
    "    \n",
    "    parameters\n",
    "    ----------\n",
    "        t: float\n",
    "            time (just a dummy variable here because this is an autonomous system)\n",
    "        u: numpy array\n",
    "            array of scaled [ s, i, r ] values such that sum(u) = 1 \n",
    "            (and s,i, r are fractions of the total population N)\n",
    "        s_star: float\n",
    "            scaled critical susceptible population = \\beta/(\\alpha N)\n",
    "            \n",
    "    returns:\n",
    "        F(u): numpy array\n",
    "    \"\"\"\n",
    "    \n",
    "    s, i, r = u\n",
    "    #print(sum([s, i, r]))\n",
    "    \n",
    "    return np.array([-s*i, (s-s_star)*i, s_star*i])\n",
    "    \n",
    "    \n",
    "    \n"
   ]
  },
  {
   "cell_type": "code",
   "execution_count": 7,
   "metadata": {
    "deletable": false,
    "editable": false,
    "hide_input": false,
    "nbgrader": {
     "cell_type": "code",
     "checksum": "12fac581407142514fda702e3b5a978b",
     "grade": true,
     "grade_id": "cell-072d933c0fd03951",
     "locked": true,
     "points": 4,
     "schema_version": 3,
     "solution": false,
     "task": false
    }
   },
   "outputs": [
    {
     "name": "stdout",
     "output_type": "stream",
     "text": [
      "success!\n"
     ]
    }
   ],
   "source": [
    "# Let's assume the critical level of immunity is 60% of the total population\n",
    "s_star = 0.6\n",
    "\n",
    "# let there initially be .01 % infected cases and no recovered\n",
    "t = 0.\n",
    "i_0 = 1.e-4\n",
    "u_0 = numpy.array([1. - i_0, i_0, 0.0])\n",
    "answer = numpy.array([-9.999000000000001e-05,  3.999000000000001e-05, 6.000000000000000e-05])\n",
    "numpy.testing.assert_allclose(F(t, u_0, s_star), answer)\n",
    "print('success!')"
   ]
  },
  {
   "cell_type": "markdown",
   "metadata": {
    "deletable": false,
    "editable": false,
    "nbgrader": {
     "cell_type": "markdown",
     "checksum": "323ccd8f079ed8cdcff01a8adb5cb12b",
     "grade": false,
     "grade_id": "cell-4822191656183239434",
     "locked": true,
     "schema_version": 3,
     "solution": false
    }
   },
   "source": [
    "**(f)** [10] Use scipy.integrate.solve_ivp (imported above as solve_ivp),  to solve the scaled dynamical system above with for <font color=\"red\">$s^* = 0.6$</font> and initial condition\n",
    "\n",
    "$$\n",
    "    \\mathbf{u}_0 = \\begin{bmatrix} 1 - i_0\\\\ i_0 \\\\ 0\\\\ \\end{bmatrix}\n",
    "$$\n",
    "\n",
    "where $i_0=10^{-5}$ is the initially infected proportion of the available population $N$\n",
    "\n",
    "Integrate for $t\\in[0, 50]$ and make a plot showing the evolution of $s(t)$, $i(t)$, ${r}(t)$ vs. time \n",
    "\n",
    "**For full credit your plot should show the following**\n",
    "* show the actual time-steps chosen by the adaptive solver as well as a smooth solution (use dense_output=True) \n",
    "* the total cumulative number of cases at any time\n",
    "* the time and infection level of the peak of the infection (hint: use the `events`, feature of solve_ivp)\n",
    "* the maximum fraction of people infected at $t=50$\n",
    "\n",
    "Explore the behavior of the solutions as a function of $s^*$ and $i_0$ and try to \"flatten the curve\" (we will try to make that more quantitative later). Also,  explore relative and absolute tolerances to convince yourself that your solutions are well resolved."
   ]
  },
  {
   "cell_type": "code",
   "execution_count": 30,
   "metadata": {
    "deletable": false,
    "hide_input": false,
    "nbgrader": {
     "cell_type": "code",
     "checksum": "f2bf5e8f1c26302e22265c386e195c9b",
     "grade": true,
     "grade_id": "cell-2d91985a44491d34",
     "locked": false,
     "points": 10,
     "schema_version": 3,
     "solution": true,
     "task": false
    }
   },
   "outputs": [
    {
     "name": "stdout",
     "output_type": "stream",
     "text": [
      "infection level of the peak of the infection: 26.955100399574473\n",
      "time level of the peak of the infection: 0.0935106886178266\n",
      "maximum fraction of people infected at t = 50: 0.6750324004868778\n"
     ]
    },
    {
     "data": {
      "image/png": "[encoded data removed]",
      "text/plain": [
       "<Figure size 1440x504 with 1 Axes>"
      ]
     },
     "metadata": {
      "needs_background": "light"
     },
     "output_type": "display_data"
    }
   ],
   "source": [
    "# Solve using SciPy's ODE integrator solve_ivp\n",
    "from scipy.integrate import solve_ivp\n",
    "\n",
    "s_star = 0.6\n",
    "i_0 = 10**-5\n",
    "u_0 = [1-i_0, i_0, 0]\n",
    "t_max = 50\n",
    "\n",
    "f = lambda t, u, s_star: u[0] - s_star\n",
    "\n",
    "sol = solve_ivp(F, [0, t_max] , u_0, args=(s_star,), rtol=1.e-6, atol=1.e-9, dense_output = True, events= f)\n",
    "t = sol.t\n",
    "s, i, r = sol.y\n",
    "t_peak = sol.t_events[0][0] # infection level\n",
    "u_peak = sol.y_events[0][0][1] # time level\n",
    "#u_peak = sol.sol(t_peak)[1] # time level \n",
    "print(f'infection level of the peak of the infection: {t_peak}')\n",
    "print(f'time level of the peak of the infection: {u_peak}')\n",
    "#print(s)\n",
    "#print(y)\n",
    "\n",
    "#print(len(i), len(r))\n",
    "max_i = r[50] + i[50]\n",
    "print(f'maximum fraction of people infected at t = 50: {max_i}')\n",
    "\n",
    "fig = plt.figure(figsize=(20,7))\n",
    "axes = fig.add_subplot(1,2,1)\n",
    "axes.plot(t,s,'ro-',label='s', linewidth=2)\n",
    "axes.plot(t,i,'bo-',label='i', linewidth=2)\n",
    "axes.plot(t,r,'go-',label='r',  linewidth=2)\n",
    "axes.plot(t,i+r,'co-',label='cumulative',  linewidth=2)\n",
    "\n",
    "axes.plot([0,50],[max_i,max_i],'k--',label='max_i')\n",
    "\n",
    "axes.legend(loc='best',shadow=True, fontsize=14)\n",
    "axes.set_xlabel('Time',fontsize=16)\n",
    "axes.set_ylabel('$𝑠(𝑡) , 𝑖(𝑡), 𝑟(𝑡)$',fontsize=16)\n",
    "axes.grid()\n",
    "axes.set_title('SIR system: $s^*={}$'.format(s_star),fontsize=18)\n",
    "plt.show()"
   ]
  },
  {
   "cell_type": "markdown",
   "metadata": {
    "deletable": false,
    "editable": false,
    "nbgrader": {
     "cell_type": "markdown",
     "checksum": "30d412ab682484e13aeb5dafe040b528",
     "grade": false,
     "grade_id": "cell-48221916561834547",
     "locked": true,
     "schema_version": 3,
     "solution": false
    }
   },
   "source": [
    "**(g)** [8] Write your own code to solve the same system using any constant step-size method we discussed in class that is higher than 2nd order (you can use or modify any of the example codes from the notes and make sure it works for vector valued functions.   Your code should be able to use your function $F$ defined above. Make sure to choose a method that will work for the non-linear right-hand-side. We will test it against the output from solve_ivp with N steps uniform steps in $t\\in[0,50]$.  What is the minimum number of steps does your routine take to pass the tests with a relative error of $10^{-4}$ and absolute error of $10^{-5}?.  You can control the number of steps taken with the `N=??` defined at the end of the cell.  **Extra Credit** determine the convergence rate of your method."
   ]
  },
  {
   "cell_type": "code",
   "execution_count": 20,
   "metadata": {
    "deletable": false,
    "hide_input": false,
    "nbgrader": {
     "cell_type": "code",
     "checksum": "13e09fcf965c1b3c41354c08f3f10977",
     "grade": false,
     "grade_id": "cell-918222306640123434",
     "locked": false,
     "schema_version": 3,
     "solution": true,
     "task": false
    }
   },
   "outputs": [
    {
     "name": "stdout",
     "output_type": "stream",
     "text": [
      "the minimum number of steps taken to pass the tests with a relative error of 10^-4 and an absolute error of 10^-5 is  82\n"
     ]
    }
   ],
   "source": [
    "def my_ode_solver(f, t_span, u0, N):\n",
    "    \"\"\" implement constant step size ODE integrator using a ________ method\n",
    "    \n",
    "    parameters\n",
    "    ----------\n",
    "        f: calleable\n",
    "            vector valued function with interface f(t,u) where u is the state vector\n",
    "        t_span: float list or array (or tuple)\n",
    "            array holding range of times to integrate over t_span = [ t_min, t_max]\n",
    "        u0:  numpy array\n",
    "            array of initial conditions\n",
    "        N: integer\n",
    "            number of time steps to take \n",
    "            \n",
    "    returns:\n",
    "    --------\n",
    "        t: numpy array\n",
    "            array of timesteps from t_min to t_max of length N\n",
    "        u: numpy array of shape (len(u0), len(t))\n",
    "            solution array,  the solution at timestep i should be u[:,i]\n",
    "    \"\"\"\n",
    "    t = numpy.linspace(t_span[0], t_span[1], N)\n",
    "    delta_t = t[1] - t[0]\n",
    "    #print(t.shape)\n",
    "    #print(u0.shape)\n",
    "    u = numpy.zeros(shape=(t.shape[0], u0.shape[0]))\n",
    "    #print(u)\n",
    "    u[0] = u0\n",
    "    #print(u)\n",
    "    #print(u0)\n",
    "    #print(len(t))\n",
    "    for (n, t_n) in enumerate(t[:-1]):\n",
    "        #print(f\"\\nu[n] is: {u[n]}\")\n",
    "        #print(f\"u[n, :] is: {u[n, :]}\\n\")\n",
    "        \n",
    "        K_1 = delta_t * f(t_n, u[n])\n",
    "        #print(f\"\\nK_1: {K_1}\")\n",
    "        K_2 = delta_t * f(t_n + delta_t/2., u[n] + K_1/2.)\n",
    "        #print(f\"K_2: {K_2}\")\n",
    "        K_3 = delta_t * f(t_n + delta_t/2., u[n] + K_2/2.)\n",
    "        K_4 = delta_t * f(t_n + delta_t, u[n] + K_3)\n",
    "        #print(f\"K_3: {K_3}\")\n",
    "        u[n+1] = u[n] + 1./6. * (K_1 + 2.*( K_2 + K_3) + K_4)\n",
    "        #print(f\"K_4: {K_4}\\n\")\n",
    "\n",
    "    return t, u.T\n",
    "\n",
    "# you can control the number of steps used here\n",
    "N = 82\n",
    "print(\"the minimum number of steps taken to pass the tests with a relative error of 10^-4 and an absolute error of 10^-5 is \", N)\n",
    "\n"
   ]
  },
  {
   "cell_type": "code",
   "execution_count": 21,
   "metadata": {
    "deletable": false,
    "editable": false,
    "hide_input": false,
    "nbgrader": {
     "cell_type": "code",
     "checksum": "f7be2a6e93a825a99f752ab8e4102652",
     "grade": true,
     "grade_id": "cell-918222306640124",
     "locked": true,
     "points": 8,
     "schema_version": 3,
     "solution": false,
     "task": false
    }
   },
   "outputs": [
    {
     "name": "stdout",
     "output_type": "stream",
     "text": [
      "success!\n"
     ]
    }
   ],
   "source": [
    "s_star = 0.6\n",
    "f = lambda t, u: F(t, u, s_star)\n",
    "\n",
    "t_span = [0., 50.]\n",
    "i_0 = 1.e-5\n",
    "u_0 = numpy.array([1. - i_0, i_0, 0.0])\n",
    "\n",
    "\n",
    "t, u = my_ode_solver(f, t_span, u_0, N)\n",
    "\n",
    "# There was a hidden line here implementing sol = solve_ivp to get the \"True\" solution\n",
    "sol = solve_ivp(f, t_span, u_0, method='RK45', dense_output=True, rtol=1.e-6, atol = 1.e-8)\n",
    "\n",
    "numpy.testing.assert_allclose(u, sol.sol(t), rtol=1.e-4, atol=1.e-5)\n",
    "print('success!')"
   ]
  },
  {
   "cell_type": "markdown",
   "metadata": {
    "deletable": false,
    "editable": false,
    "nbgrader": {
     "cell_type": "markdown",
     "checksum": "206ea91d42a6ed18738f8eb5e410ac6a",
     "grade": false,
     "grade_id": "cell-72ea6dc8a2813be7",
     "locked": true,
     "schema_version": 3,
     "solution": false,
     "task": false
    }
   },
   "source": [
    "**(h)** [2] Reproduce your figure from the scipy version (without events)"
   ]
  },
  {
   "cell_type": "code",
   "execution_count": 31,
   "metadata": {
    "deletable": false,
    "hide_input": false,
    "nbgrader": {
     "cell_type": "code",
     "checksum": "c7fbad01da98f1196ea96430b8c5cf0e",
     "grade": true,
     "grade_id": "cell-9182223066423o434",
     "locked": false,
     "points": 2,
     "schema_version": 3,
     "solution": true,
     "task": false
    }
   },
   "outputs": [
    {
     "name": "stdout",
     "output_type": "stream",
     "text": [
      "maximum fraction of people infected at t = 40: 0.6634787913400378\n"
     ]
    },
    {
     "data": {
      "image/png": "[encoded data removed]",
      "text/plain": [
       "<Figure size 1440x504 with 1 Axes>"
      ]
     },
     "metadata": {
      "needs_background": "light"
     },
     "output_type": "display_data"
    }
   ],
   "source": [
    "t = sol.t\n",
    "s, i, r = sol.y\n",
    "#print(len(r), len(i))\n",
    "max_i = r[40] + i[40]\n",
    "\n",
    "print(f'maximum fraction of people infected at t = 40: {max_i}')\n",
    "\n",
    "fig = plt.figure(figsize=(20,7))\n",
    "axes = fig.add_subplot(1,2,1)\n",
    "axes.plot(t,s,'ro-',label='s', linewidth=2)\n",
    "axes.plot(t,i,'bo-',label='i', linewidth=2)\n",
    "axes.plot(t,r,'go-',label='r',  linewidth=2)\n",
    "axes.plot(t,i+r,'co-',label='cumulative',  linewidth=2)\n",
    "\n",
    "axes.plot([0,50],[max_i,max_i],'k--',label='max_i')\n",
    "\n",
    "axes.legend(loc='best',shadow=True, fontsize=14)\n",
    "axes.set_xlabel('Time',fontsize=16)\n",
    "axes.set_ylabel('$𝑠(𝑡) , 𝑖(𝑡), 𝑟(𝑡)$',fontsize=16)\n",
    "axes.grid()\n",
    "axes.set_title('SIR system: $s^*={}$'.format(s_star),fontsize=18)\n",
    "plt.show()"
   ]
  },
  {
   "cell_type": "markdown",
   "metadata": {
    "deletable": false,
    "editable": false,
    "nbgrader": {
     "cell_type": "markdown",
     "checksum": "d274a3b7092e944b682f734b980362b3",
     "grade": false,
     "grade_id": "cell-062d990b667d61f1",
     "locked": true,
     "schema_version": 3,
     "solution": false,
     "task": false
    }
   },
   "source": [
    "###  Themes and Variations -- Some project ideas\n",
    "\n",
    "The classical Kermack and McKendric model is only one of a vast set of models used to model the spread of infection disease but assumes homogeneous mixing across the entire population.  In addition there are lots of things  to explore with even the simplest SIR model.   If you are interested in this sort of ODE model as a possible project, here are a few things you might want to explore\n",
    "\n",
    "\n",
    "* Choose a fixed value of $N$ for the maximum susceptible population. Assume that maximum hospital capacity is achieved when the number of infected patients reaches $i_{max}$.  Construct a root-finding problem to find the value of $s^*$ required to keep  the peak number of infected cases $i_{peak} <= i_{max}$. \n",
    "\n",
    "* Consider the possibility of re-infection (ugh!).  One model of this assumes that recovered patients can become susceptible again at some rate $\\lambda$.  Modify the original SIR model to include this possibility and construct a new scaled set of equations.  This will now be a 2 parameter dynamical system ($s^*$ and another parameter say $\\lambda^*$.  Explore the behavior of this new problem.\n",
    "\n",
    "* Develop a model that includes the effects of vaccinations\n",
    "\n",
    "* Show that the original SIR model allows at most one peak in infections.  Then try to construct a better model that allows multiple peaks.\n",
    "\n",
    "* Read [Siettos and Russo, (2013)](https://doi.org/10.4161/viru.24041) (or find a better paper) which reviews a range of epidemiology models including Stochastic SIR models. Wikipedia also has several pages on modeling epidemics ([here](https://en.wikipedia.org/wiki/Compartmental_models_in_epidemiology) , and [here](https://en.wikipedia.org/wiki/Mathematical_modelling_of_infectious_disease)) Pick another model, implement it and compare it's behavior with the basic SIR model.\n",
    "\n",
    "* Something Numerical: Write an adaptive time stepper built around any two single-step multi-stage schemes and compare your solution to solve_ivp.\n",
    "\n",
    "* Your own best ideas!\n",
    "\n"
   ]
  },
  {
   "cell_type": "markdown",
   "metadata": {
    "deletable": false,
    "editable": false,
    "nbgrader": {
     "cell_type": "markdown",
     "checksum": "f82640bdadf4ecd7d32406fba71374a3",
     "grade": false,
     "grade_id": "cell-c54586fa263cc449",
     "locked": true,
     "schema_version": 3,
     "solution": false,
     "task": false
    }
   },
   "source": [
    "## Question 2 - Absolute Stability Regions Single-Step Multi-stage schemes"
   ]
  },
  {
   "cell_type": "markdown",
   "metadata": {
    "deletable": false,
    "editable": false,
    "nbgrader": {
     "cell_type": "markdown",
     "checksum": "4c43299a2318bf213b6514e7fe8ac79a",
     "grade": false,
     "grade_id": "cell-dd9d7792263258d8",
     "locked": true,
     "schema_version": 3,
     "solution": false,
     "task": false
    }
   },
   "source": [
    "**(a)** [4 pt] Taylor Series method:\n",
    "    \n",
    "Show that $R(z)$ for a Taylor's series method of order $p$ acting on the model problem $u'=\\lambda u$ always just returns the first $p+1$ terms of the Taylor series of $e^z$."
   ]
  },
  {
   "cell_type": "markdown",
   "metadata": {
    "deletable": false,
    "nbgrader": {
     "cell_type": "markdown",
     "checksum": "f5bb5b09ab8d30954162f309886ebf0c",
     "grade": true,
     "grade_id": "cell-1ca065b824f2cbb0",
     "locked": false,
     "points": 4,
     "schema_version": 3,
     "solution": true,
     "task": false
    }
   },
   "source": [
    "Taylor series of $e^z$ is $$1 + z + \\frac{z^2}{2!} + \\frac{z^3}{3!} + \\frac{z^4}{4!} + ... = \\sum_{n=0}^{\\infty} \\frac{z^{n}}{n!}$$\n",
    "\n",
    "For $u'(t) = \\lambda u$ with $f=\\lambda u$ ($u' = f(t, u))$, we have\n",
    "\n",
    "$$\\begin{align*}\n",
    "    f(t,u) &= \\lambda u\\\\\n",
    "    f'(t,u) &= \\lambda u' = \\lambda f = \\lambda^2 u\\\\\n",
    "    f''(t,u) &= \\lambda^2 u' = \\lambda^2 f = \\lambda^3 u\\\\\n",
    "    ...\\\\\n",
    "    f^{(n-1)}(t,u) &= \\lambda^{n-1} u' = \\lambda^{n-1} f = \\lambda^n u\n",
    "\\end{align*}$$\n",
    "\n",
    "a third order scheme would look like\n",
    "$$\n",
    "\\begin{align}\n",
    "    U(t_{n+1}) &= U(t_n)\\left[ 1 + \\lambda\\Delta t  + \\frac{(\\lambda\\Delta t)^2}{2} + \\frac{(\\lambda\\Delta t)^3}{6}\\right]+ O(\\Delta t^4)\n",
    "\\end{align}\n",
    "$$\n",
    "where $z = \\lambda\\Delta t$, $R(z) = 1 + z + \\frac{z^2}{2!} + \\frac{z^3}{3!} $\n",
    "so here for a third order scheme where $p = 3$, we got the first $p+1 = 4$ terms of the Taylor series of $e^z$\n",
    "\n",
    "Then generally, for an $n$ order scheme where $p = n$, we will get $R(z) = 1 + z + \\frac{z^2}{2!} + ... + \\frac{z^n}{n!} $ for a total of $n + 1 = p + 1$ terms."
   ]
  },
  {
   "cell_type": "markdown",
   "metadata": {
    "deletable": false,
    "editable": false,
    "nbgrader": {
     "cell_type": "markdown",
     "checksum": "2d9eb1124c7bc577827b093264976e64",
     "grade": false,
     "grade_id": "cell-273021c1878d0b00",
     "locked": true,
     "schema_version": 3,
     "solution": false,
     "task": false
    }
   },
   "source": [
    "**(b)** [4 pt] Plot the regions of absolute stability for Taylor Series methods of order 2-5\n",
    "\n",
    "You can use the plotting codes given in class and included in the file stability_diagrams.py which are imported in the first cell"
   ]
  },
  {
   "cell_type": "code",
   "execution_count": 14,
   "metadata": {
    "deletable": false,
    "nbgrader": {
     "cell_type": "code",
     "checksum": "b1a3a886fcf13a05d017a97dbe14733a",
     "grade": true,
     "grade_id": "cell-9c688399c72e251a",
     "locked": false,
     "points": 4,
     "schema_version": 3,
     "solution": true,
     "task": false
    }
   },
   "outputs": [
    {
     "data": {
      "image/png": "[encoded data removed]",
      "text/plain": [
       "<Figure size 864x864 with 8 Axes>"
      ]
     },
     "metadata": {
      "needs_background": "light"
     },
     "output_type": "display_data"
    }
   ],
   "source": [
    "from stability_diagrams import stability_plot, plot_stability_ssms, plot_stability_lmm\n",
    "\n",
    "x = numpy.linspace(-5,5,100)\n",
    "y = numpy.linspace(-5,5,100)\n",
    "\n",
    "R_Taylor2 = lambda z: 1. + z  + (z**2)/2.\n",
    "R_Taylor3 = lambda z: 1. + z  + (z**2)/2.  + (z**3)/6.\n",
    "R_Taylor4 = lambda z: 1. + z  + (z**2)/2.  + (z**3)/6. + (z**4)/24.\n",
    "R_Taylor5 = lambda z: 1. + z  + (z**2)/2.  + (z**3)/6. + (z**4)/24. + (z**5)/120.\n",
    "\n",
    "continuous=True\n",
    "\n",
    "fig = plt.figure(figsize=(12,12))\n",
    "axes = fig.add_subplot(2,2,1)\n",
    "plot_stability_ssms(R_Taylor2, x, y, axes=axes, title='Stability of Taylor2 method', continuous=continuous)\n",
    "\n",
    "axes = fig.add_subplot(2,2,2)\n",
    "plot_stability_ssms(R_Taylor3, x, y, axes=axes, title='Stability of Taylor3 method', continuous=continuous)\n",
    "\n",
    "axes = fig.add_subplot(2,2,3)\n",
    "plot_stability_ssms(R_Taylor4, x, y, axes=axes, title='Stability of Taylor4 method', continuous=continuous)\n",
    "\n",
    "axes = fig.add_subplot(2,2,4)\n",
    "plot_stability_ssms(R_Taylor5, x, y, axes=axes, title='Stability of Taylor5 method', continuous=continuous)\n"
   ]
  },
  {
   "cell_type": "markdown",
   "metadata": {
    "deletable": false,
    "editable": false,
    "nbgrader": {
     "cell_type": "markdown",
     "checksum": "4cd9edb39602b50c79729aed18509454",
     "grade": false,
     "grade_id": "cell-cf67bcdf6e56f88a",
     "locked": true,
     "schema_version": 3,
     "solution": false,
     "task": false
    }
   },
   "source": [
    "**(b)** [4 pt] Derive $R(z)$ for the RK2 method and show that it is equivalent to Taylor 2\n",
    "\n",
    "**Extra Credit**  show that $R(Z)$ for RK4 is identical to Taylor-4 (in general this is true for explicit RK methods)"
   ]
  },
  {
   "cell_type": "markdown",
   "metadata": {
    "deletable": false,
    "nbgrader": {
     "cell_type": "markdown",
     "checksum": "f8c04e94acf46b8f5bcda7c6529a4263",
     "grade": true,
     "grade_id": "cell-ccd05ce9cfbb3ae0",
     "locked": false,
     "points": 4,
     "schema_version": 3,
     "solution": true,
     "task": false
    }
   },
   "source": [
    "#### RK2\n",
    "\n",
    "$$\\begin{aligned}\n",
    "    K_1 &= \\Delta t f(U_n, t_n) \\\\\n",
    "    K_2 &= \\Delta t f(U_n + K_1/2, t_n + \\Delta t/2 )\\\\\n",
    "    U_{n+1} &= U_n + K_2 \\\\    \n",
    "\\end{aligned}$$\n",
    "\n",
    "$$\n",
    "    U_{n+1} = U_n + \\Delta t f(U_n + \\frac{1}{2} \\Delta t f(U_n))\n",
    "$$\n",
    "\n",
    "where $z = \\Delta t f$, we can rewrite $U_{n+1}$ as:\n",
    "$$\n",
    "    U_{n+1} = U_n + zU_n + \\frac{1}{2} z^2 U_n \\\\\n",
    "            = U_n\\left[1 + z + \\frac{1}{2} z^2\\right]\n",
    "$$\n",
    "\n",
    "where $R(z) = 1 + z + \\frac{1}{2} z^2 $\n",
    "which matches the Taylor's series of $e^z$ of order $p=2$ \n",
    "\n",
    "Taylor's series of $e^z$ of order $2$: \n",
    "$$1 + z + \\frac{z^2}{2!}$$\n",
    "\n",
    "#### RK4\n",
    "$$\n",
    "\\begin{array} {c|cccc} & K_1 & K_2 & K_3 & K_4 \\\\ \\hline & 0 & 0\\\\ 1/2 & 1/2\\\\ 1/2 &0 &1/2 \\\\ 1& 0& 0& 1\\\\ \\hline & 1/6 & 1/3 & 1/3 &1/6 \\end{array}\n",
    "$$\n",
    "\n",
    "$$\\begin{aligned}\n",
    "    K_1 &= \\Delta t f(t_n, U_n) \\\\\n",
    "    K_2 &= \\Delta t f(t_n + \\Delta t/2, U_n + K_1/2) \\\\\n",
    "    K_3 &= \\Delta t f(t_n + \\Delta t/2, U_n + K_2/2) \\\\\n",
    "    K_4 &= \\Delta t f(t_n + \\Delta t, U_n + K_3) \\\\\n",
    "        & \\\\\n",
    "    U_{n+1} &= U_n + \\frac{1}{6} \\left [K_1 + 2(K_2 + K_3)  + K_4) \\right ] \n",
    "\\end{aligned}$$\n",
    "\n",
    "With truncation error $T = O(\\Delta t^4)$\n",
    "\n",
    "Simplifying $K_2$ and $K_3$ gives us:\n",
    "\n",
    "$$\\begin{aligned}\n",
    "    K_1 &= \\Delta t f(U_n) \\\\\n",
    "    K_2 &= \\Delta t f (U_n + \\frac{1}{2}\\Delta t f(U_n)) \\\\\n",
    "    K_3 &= \\Delta t f (U_n + \\frac{1}{2}\\Delta t f(U_n + \\frac{1}{2} f(U_n)) \\\\\n",
    "        &= \\Delta t f U_n + \\frac{1}{2} (\\Delta t f)^2 U_n + \\frac{1}{4} (\\Delta t f)^3 U_n \\\\ \n",
    "    K_4 &= \\Delta t f(U_n + K_3)\n",
    "\\end{aligned}$$ \n",
    "\n",
    "\n",
    "We can plug the above to simplify $U_{n+1}$:\n",
    "$$\\begin{aligned} \n",
    "    U_{n+1} &= U_n + \\frac{1}{6} K_1 + 2(K_2 + K_3)  + K_4) \\\\\n",
    "            &= U_n + \\frac{1}{6}\\left[\\Delta t f U_n + 2 \\left[\\Delta t f U_n + \\frac{1}{2}(\\Delta t f)^2 U_n + \\Delta t f U_n + \\frac{1}{2} (\\Delta t f)^2 U_n + \\frac{1}{4} (\\Delta t f)^3 U_n \\right] \\\\\n",
    "            + \\Delta t f U_n + (\\Delta t f)^2 U_n + \\frac{1}{2} (\\Delta t f)^3 U_n + \\frac{1}{4} (\\Delta t f)^4 U_n \\right]\\\\\n",
    "\\end{aligned}$$\n",
    "\n",
    "where $z = \\Delta t f$, we can rewrite $U_{n+1}$ as:\n",
    "$$\\begin{aligned} \n",
    "    U_{n+1} &= U_n + \\frac{1}{6} U_n \\left[z + 2\\left[z + \\frac{1}{2}z^2 + z + \\frac{1}{2}z^2 + \\frac{1}{4}z^3\\right] + z + z^2 + \\frac{1}{2}z^3 + \\frac{1}{4}z^4\\right] \\\\\n",
    "            &= U_n \\left[1+ \\frac{1}{6}z + \\frac{1}{3} (2z + z^2 + \\frac{1}{4}z^3) + \\frac{1}{6}z + \\frac{1}{6}z^2 + \\frac{1}{12}z^3 + \\frac{1}{24}z^4\\right] \\\\\n",
    "            &= U_n \\left[1 + z(\\frac{1}{6} + \\frac{2}{3} + \\frac{1}{6}) + z^2 (\\frac{1}{3} + \\frac{1}{6}) + z^3 (\\frac{1}{12} + \\frac{1}{12}) + z^4 (\\frac{1}{24}) \\right] \\\\\n",
    "            &= U_n (1 + z + \\frac{z^2}{2} + \\frac{z^3}{6} + \\frac{z^4}{24})\n",
    "\\end{aligned}$$\n",
    "\n",
    "where $R(z) = 1 + z + \\frac{z^2}{2} + \\frac{z^3}{6} + \\frac{z^4}{24} $\n",
    "which matches the Taylor's series of $e^z$ of order $p=4$ \n",
    "\n",
    "Taylor's series of $e^z$ of order $4$: \n",
    "$$1 + z + \\frac{z^2}{2!} + \\frac{z^3}{3!} + \\frac{z^4}{4!}$$\n"
   ]
  },
  {
   "cell_type": "markdown",
   "metadata": {
    "deletable": false,
    "editable": false,
    "nbgrader": {
     "cell_type": "markdown",
     "checksum": "2c28bcfd375e36c5a93c5e612a16554b",
     "grade": false,
     "grade_id": "cell-74f9c58c7046a7cd",
     "locked": true,
     "schema_version": 3,
     "solution": false
    }
   },
   "source": [
    "## Question 3: Linear Multi-Step Schemes - Derivation and stability"
   ]
  },
  {
   "cell_type": "markdown",
   "metadata": {
    "deletable": false,
    "editable": false,
    "nbgrader": {
     "cell_type": "markdown",
     "checksum": "47a6d4aec9010957daf12f68478fe21a",
     "grade": false,
     "grade_id": "cell-74f9c58c7a7cd",
     "locked": true,
     "schema_version": 3,
     "solution": false
    }
   },
   "source": [
    "[4] Derive the Adams-Moulton 2-step method \n",
    "$$\n",
    "    U_{n+2} = U_{n+1} + \\frac{\\Delta t}{12} (-f_{n} + 8 f_{n+1} + 5 f_{n+2}),\n",
    "$$\n",
    "\n",
    "and its error estimate using the formula for the truncation error of general multi-step schemes\n",
    "$$\n",
    "\\begin{aligned}\n",
    "    T(t, u; \\Delta t) &= \\frac{1}{\\Delta t}\\left( \\sum^r_{j=0} \\alpha_j\\right) u(t_n) + \\left(\\sum^r_{j=0} (j\\alpha_j - \\beta_j)\\right) u'(t_n) + \\Delta t \\left(\\sum^r_{j=0} \\left (\\frac{1}{2}j^2 \\alpha_j - j \\beta_j \\right) \\right) u''(t_n) \\\\\n",
    "& \\quad \\quad + \\cdots + \\Delta t^{q - 1} \\left (\\sum^r_{j=0} \\left(\\frac{1}{q!} j^q \\alpha_j - \\frac{1}{(q-1)!} j^{q-1} \\beta_j \\right) \\right) u^{(q)}(t_n) + \\cdots\n",
    "\\end{aligned}$$\n",
    "\n",
    "i.e. find $\\alpha_j$s and $\\beta_j$s that zero out terms of the truncation error out to some order.\n",
    "Some Hint's \n",
    "* This is an Adams scheme with three levels so we already know the $\\alpha$'s\n",
    "* Therefore you only have to find the three $\\beta$'s $\\beta_0$, $\\beta_1$ and $\\beta_2$\n",
    "* Use the above formula to find 3 equations for the 3 values of $\\beta$\n",
    "* The remainder term will be the order of the Truncation error"
   ]
  },
  {
   "cell_type": "markdown",
   "metadata": {
    "deletable": false,
    "nbgrader": {
     "cell_type": "markdown",
     "checksum": "326a9861def06d4f11a07ffdde556ac4",
     "grade": true,
     "grade_id": "cell-415a1f1008c1",
     "locked": false,
     "points": 4,
     "schema_version": 3,
     "solution": true
    }
   },
   "source": [
    "#### Adams Methods\n",
    "$$\n",
    "    U_{n+r} = U_{n+r-1} + \\Delta t \\sum^r_{j=0} \\beta_j f(U_{n+j}).\n",
    "$$\n",
    "All these methods have $\\alpha_r = 1$, $\\alpha_{r-1} = -1$ and $\\alpha_j=0$ for $j < r - 1$.\n",
    "\n",
    "We know from Adams Methods the values for our alphas:\n",
    "\n",
    "$$\\alpha_2 = -\\alpha_1 = 1, \\alpha_0 = 0 \\\\ $$\n",
    "$$\\Sigma^{2}_{j}\\alpha_j = 0 $$\n",
    "$$s = \\Sigma^{2}_{j=0} (\\frac{1}{q!}j^q\\alpha_j - \\frac{1}{(q-1)!}j^{q-1}\\beta_j)= 0$$ \n",
    "where $q$ starts from $1$\n",
    "(by definition of Adams methods, the coefficients = 0)\n",
    "\n",
    "(1) $$  0 = \\Sigma^{2}_{j=0} j\\alpha_j - \\beta_j = 0 - \\beta_0 - \\alpha_1 - \\beta_1 + 2\\alpha_2 - \\beta_2 = -\\beta_0 - \\beta_1 - \\beta_2 + 1 \\\\ $$\n",
    "$$ -\\beta_0 - \\beta_1 - \\beta_2 = -1 $$\n",
    "\n",
    "\n",
    "\n",
    "(2) $$ 0 = \\Sigma^{2}_{j=0} \\frac{1}{2}j^2\\alpha_j - j\\beta_j = 0 - 0 + -\\frac{1}{2} - \\beta_1 + 2 - 2\\beta_2 = -\\beta_1 - 2\\beta_2 + \\frac{3}{2}\n",
    "$$\n",
    "$$ -\\beta_1 - 2\\beta_2 = -\\frac{3}{2} $$\n",
    "\n",
    "\n",
    "(3) $$ 0 = \\Sigma^{2}_{j=0} \\frac{1}{6}j^3\\alpha_j - \\frac{1}{2}j^2\\beta_j = 0 - 0 + -\\frac{1}{6} - \\frac{1}{2}\\beta_1 + \\frac{4}{3} - 2\\beta_2 = -\\frac{1}{2}\\beta_1 - 2\\beta_2 + \\frac{7}{6}$$\n",
    "$$ -\\frac{1}{2}\\beta_1 - 2\\beta_2 = -\\frac{7}{6} $$\n",
    "\n",
    "So we have a system of $3$ equations, which we use to find our $\\beta$ values:\n",
    "\n",
    "$$ \n",
    "\\begin{bmatrix}\n",
    "-1 & -1 & -1 \\\\\n",
    "0 & -1 & -2 \\\\\n",
    "0 & -1/2 & -2 \\\\\n",
    "\\end{bmatrix} \\begin{bmatrix}\n",
    "\\beta_0 \\\\ \\beta_1 \\\\ \\beta_2 \\\\\n",
    "\\end{bmatrix} = \n",
    "\\begin{bmatrix}\n",
    "-1 \\\\ -3/2 \\\\ -7/6 \\\\ \n",
    "\\end{bmatrix}\n",
    "$$\n",
    "\n",
    "$$ \n",
    "\\begin{bmatrix}\n",
    "-1 & -1 & -1 &| & -1\\\\\n",
    "0 & -1 & -2 &| & -3/2 \\\\\n",
    "0 & -1/2 & -2 &| & -7/6  \\\\\n",
    "\\end{bmatrix} \n",
    "$$\n",
    "\n",
    "\n",
    "which gives us beta values of:\n",
    "$$\n",
    "\\begin{matrix}\n",
    "    \\beta_0 = -\\frac{1}{12}, & \\beta_1 = \\frac{2}{3}, & \\beta_2 = \\frac{5}{12}\\\\\n",
    "\\end{matrix}\n",
    "$$\n",
    "\n",
    "Therefore, plugging in the values we got for $\\beta_0, \\beta_1$, and $\\beta_2$,\n",
    "$$ U_{n+2} = U_{n+1} + \\Delta t (\\beta_0 f_n + \\beta_1 f_{n+1} + \\beta_2 f_{n+2}) $$\n",
    "becomes\n",
    "$$ U_{n+2} = U_{n+1} + \\Delta t (-\\frac{1}{12} f_n + \\frac{2}{3} f_{n+1} + \\frac{5}{12} f_{n+2}) $$ \n",
    "which indeed matches the expected expression for the Adams-Moulton 2-step method \n",
    "$$\n",
    "    U_{n+2} = U_{n+1} + \\frac{\\Delta t}{12} (-f_{n} + 8 f_{n+1} + 5 f_{n+2}),\n",
    "$$\n",
    "\n",
    "\n",
    "the whole Truncation error $T$ is the sum of the individual truncation errors, \n",
    "$$T = \\Sigma^{\\infty}_{q=0}\\Delta t ^{q-1} s u^{(q)} (t_n)$$\n",
    "\n",
    "The error estimate for $T_n$ is $O(\\Delta t^3 u^{(4)}$)\n"
   ]
  },
  {
   "cell_type": "markdown",
   "metadata": {
    "deletable": false,
    "editable": false,
    "nbgrader": {
     "cell_type": "markdown",
     "checksum": "a5d121d00d0b95a703d5b8a6c78f261e",
     "grade": false,
     "grade_id": "cell-5fc238aba385d265",
     "locked": true,
     "schema_version": 3,
     "solution": false,
     "task": false
    }
   },
   "source": [
    "**(c)** [8] Stability polynomials and Diagrams\n",
    "\n",
    "Calculate the stability polynomial and plot the stability regions for\n",
    "1. 2-step Adams-Moulton methods.\n",
    "1. 3-step Adams-Bashforth methods\n",
    "\n",
    "which are both 3rd-order methods.  Comment on the relative size of stability regions of these two methods and Taylor-3."
   ]
  },
  {
   "cell_type": "markdown",
   "metadata": {
    "deletable": false,
    "nbgrader": {
     "cell_type": "markdown",
     "checksum": "ccd22ea267673785077f4e38f2b3db22",
     "grade": true,
     "grade_id": "cell-35754117816ff2dd",
     "locked": false,
     "points": 4,
     "schema_version": 3,
     "solution": true,
     "task": false
    }
   },
   "source": [
    "#### Adams-Moulton\n",
    "\n",
    "$$\n",
    "\\begin{aligned}\n",
    "\\text{2-step:} & ~ & U_{n+2} &= U_{n+1} + \\frac{\\Delta t}{12} (-f(U_n) + 8f(U_{n+1}) + 5f(U_{n+2})) \\\\\n",
    "\\end{aligned}$$\n",
    "\n",
    "substituting $z = \\Delta t f$,\n",
    "\n",
    "$$\\begin{aligned}\n",
    "    U_{n+2} &= U_{n+1} + \\frac{1}{12} (-z U_n + 8z U_{n+1} + 5z U_{n+2}) \\\\\n",
    "\\end{aligned}$$ \n",
    "\n",
    "substituting $U_n = \\xi^n$, and factoring out $\\xi^n$ yields\n",
    "\n",
    "$$\\begin{aligned}\n",
    "    \\xi^2 - \\xi + \\frac{1}{12}z - \\frac{2}{3}z\\xi - \\frac{5}{12}z\\xi^2 &= 0 \\\\\n",
    "    \\xi^2(1 - \\frac{5}{12}z) + \\xi (-1 - \\frac{2}{3}z) + \\frac{1}{12}z &= 0 \\\\\n",
    "    \\xi^2(12 - 5z) + \\xi (-12 - 8z) + z &= 0 \\\\\n",
    "\\end{aligned}$$ \n",
    "\n",
    "We get the following as the stability polynomial for 2-step Adams-Moulton:\n",
    "\n",
    "$$\\pi(\\xi, z) = \\xi^2(12 - 5z) + \\xi (-12 - 8z) + z$$\n",
    "\n",
    "\n",
    "#### Adams-Bashforth\n",
    "\n",
    "$$\n",
    "\\begin{aligned}\n",
    "\\text{3-step:} & ~ & U_{n+3} &= U_{n+2} + \\frac{\\Delta t}{12} (5 f(U_n) - 16 f(U_{n+1}) + 23 f(U_{n+2})) \\\\\n",
    "\\end{aligned}$$\n",
    "\n",
    "substituting $z = \\Delta t f$,\n",
    "\n",
    "$$\\begin{aligned}\n",
    "    U_{n+3} &= U_{n+2} + \\frac{1}{12} (5z U_n - 16z U_{n+1} + 23z U_{n+2}) \\\\\n",
    "\\end{aligned}$$ \n",
    "\n",
    "substituting $U_n = \\xi^n$, and factoring out $\\xi^n$ yields\n",
    "\n",
    "$$\\begin{aligned}\n",
    "    \\xi^3 - \\xi^2 - \\frac{5}{12}z + \\frac{4}{3}z\\xi - \\frac{23}{12}z\\xi^2 &= 0 \\\\\n",
    "    \\xi^3 + \\xi^2(-1 - \\frac{23}{12}z) + \\xi (\\frac{4}{3}z) + (-\\frac{5}{12}z) &= 0 \\\\\n",
    "    \\xi^3(12) + \\xi^2(-12 - 23z) + \\xi (16z) + (-5z) &= 0 \\\\ \\\\\n",
    "\\end{aligned}$$ \n",
    "\n",
    "We get the following as the stability polynomial for 3-step Adams-Bashforth:\n",
    "\n",
    "$$\\pi(\\xi, z) = 12\\xi^3 + \\xi^2(-12 - 23z) + 16z\\xi -5z$$\n"
   ]
  },
  {
   "cell_type": "code",
   "execution_count": 15,
   "metadata": {
    "deletable": false,
    "nbgrader": {
     "cell_type": "code",
     "checksum": "dff12e08aba9ba3313d6421cd3a11cad",
     "grade": true,
     "grade_id": "cell-bb5d48ede7f2d8f4",
     "locked": false,
     "points": 4,
     "schema_version": 3,
     "solution": true,
     "task": false
    }
   },
   "outputs": [
    {
     "data": {
      "image/png": "[encoded data removed]",
      "text/plain": [
       "<Figure size 864x864 with 6 Axes>"
      ]
     },
     "metadata": {
      "needs_background": "light"
     },
     "output_type": "display_data"
    }
   ],
   "source": [
    "x = numpy.linspace(-7,7,100)\n",
    "y = numpy.linspace(-7,7,100)\n",
    "\n",
    "R_AM2 = lambda z: numpy.array([(12. -5*z), (-12 - 8*z), z])\n",
    "R_AB3 = lambda z: numpy.array([12., (-12. - 23*z), 16*z, -5*z])\n",
    "\n",
    "R_Taylor3 = lambda z: 1. + z  + (z**2)/2.  + (z**3)/6.\n",
    "continuous=True\n",
    "\n",
    "fig = plt.figure(figsize=(12,12))\n",
    "axes = fig.add_subplot(2,2,1)\n",
    "plot_stability_lmm(R_AM2, x, y, axes=axes, title='Stability of Adams-Moulton2')\n",
    "axes = fig.add_subplot(2,2,2)\n",
    "plot_stability_lmm(R_AB3, x, y, axes=axes, title='Stability of Adams-Bashforth3')\n",
    "axes = fig.add_subplot(2,2,3)\n",
    "plot_stability_ssms(R_Taylor3, x, y, axes=axes, title='Stability of Taylor3 method', continuous=continuous)\n"
   ]
  },
  {
   "cell_type": "markdown",
   "metadata": {
    "deletable": false,
    "nbgrader": {
     "cell_type": "markdown",
     "checksum": "e424adc8b74c1156d0ba25ab8e2dd6dd",
     "grade": true,
     "grade_id": "cell-94b7e383d04df2bc",
     "locked": false,
     "points": 2,
     "schema_version": 3,
     "solution": true,
     "task": false
    }
   },
   "source": [
    "The sizes of the stability regions are relative to each other in the following order:\n",
    "\n",
    "Adams-Bashforth3 < Taylor3 < Stability of Adams-Moulton2"
   ]
  },
  {
   "cell_type": "markdown",
   "metadata": {
    "deletable": false,
    "editable": false,
    "nbgrader": {
     "cell_type": "markdown",
     "checksum": "d75f66b9bafa4438dca6cbfdef283246",
     "grade": false,
     "grade_id": "cell-0ebb7155c15aa67d",
     "locked": true,
     "schema_version": 3,
     "solution": false,
     "task": false
    }
   },
   "source": [
    "**(d)**  [6] In class we demonstrated that the Leap-frog method seemed to be unstable, at least for the examples we showed.  Use your tools for stability analysis of Linear Multi-step methods to analyze the general stability of the Leap Frog method and plot its stability diagram. In particular, comment on the case we showed in class for $\\lambda$ real and negative."
   ]
  },
  {
   "cell_type": "markdown",
   "metadata": {
    "deletable": false,
    "nbgrader": {
     "cell_type": "markdown",
     "checksum": "74fd2490f5284e224c0208d375df8b63",
     "grade": true,
     "grade_id": "cell-9b23a269401801a6",
     "locked": false,
     "points": 4,
     "schema_version": 3,
     "solution": true,
     "task": false
    }
   },
   "source": [
    "#### leap-frog method\n",
    "\n",
    "$$\\frac{U_{n+2} - U_{n}}{2\\Delta t} = f(t_{n+1}, U_{n+1})$$\n",
    "\n",
    "or\n",
    "\n",
    "$$\n",
    "    U_{n+2} = U_{n} + 2\\Delta t\\, f(t_{n+1}, U_{n+1})\n",
    "$$ \n",
    "\n",
    "substituting $z = \\Delta t f$,\n",
    "\n",
    "$$\\begin{aligned}\n",
    "    U_{n+2} &= U_{n} + 2 z U_{n+1} \\\\\n",
    "\\end{aligned}$$ \n",
    "\n",
    "substituting $U_n = \\xi^n$, and factoring out $\\xi^n$ yields\n",
    "\n",
    "$$\\begin{aligned}\n",
    "    \\xi^2 - 1 - 2z\\xi &= 0 \\\\\n",
    "\\end{aligned}$$ \n",
    "\n",
    "We get the following as the stability polynomial for Leap Frog:\n",
    "\n",
    "$$\\pi(\\xi, z) = \\xi^2 - 2z\\xi - 1$$\n",
    "\n",
    "roots: $\\xi = z \\pm \\sqrt{z^2 + 1}, z = \\Delta t \\lambda$\n",
    "\n",
    "If lambda is real, $t$ is real, get $2$ positive real roots, $max|z| + \\sqrt{z^2 + 1} > 1$ for $z > 0 \\rightarrow$ unstable $\\forall \\lambda$\n",
    "\n",
    "if the roots of $\\pi(\\xi, z) > 1$ for $z > 0$ and for $z \\leq 0$, then unstable $\\forall \\lambda$ (if $z < 0$, the same is true (as we are squaring the negative and taking the absolute value) (will diverge as rate is greater than $1$ so as $t$ goes to infinity, will diverge)\n",
    "\n",
    "Roots for the complex case:\n",
    "\n",
    "For $z \\in \\mathbb{C} |z| \\geq 0 \\in R$\n",
    "\n",
    "let $z = a + bi$, $|\\sqrt{z^2 + 1}| = |\\sqrt{a^2 - b^2 + 2abi + 1}|$\n",
    "\n",
    "\n",
    "For the case where $\\lambda$ is real and negative, the Leap-frog method is unstable for all $\\Delta t$ unless when $\\lambda$ is imaginary."
   ]
  },
  {
   "cell_type": "code",
   "execution_count": 16,
   "metadata": {
    "deletable": false,
    "nbgrader": {
     "cell_type": "code",
     "checksum": "adbbc438ac01b509922ec90acbb94b9b",
     "grade": true,
     "grade_id": "cell-de8ac5dc46de0a80",
     "locked": false,
     "points": 2,
     "schema_version": 3,
     "solution": true,
     "task": false
    }
   },
   "outputs": [
    {
     "name": "stderr",
     "output_type": "stream",
     "text": [
      "/home/jovyan/hw5/stability_diagrams.py:34: UserWarning: No contour levels were found within the data range.\n",
      "  axes.contour(X, Y, C, 'k', levels=[1.0])\n"
     ]
    },
    {
     "data": {
      "image/png": "[encoded data removed]",
      "text/plain": [
       "<Figure size 576x432 with 2 Axes>"
      ]
     },
     "metadata": {
      "needs_background": "light"
     },
     "output_type": "display_data"
    }
   ],
   "source": [
    "x = numpy.linspace(-5,5,100)\n",
    "y = numpy.linspace(-5,5,100)\n",
    "\n",
    "R_LF = lambda z: numpy.array([(1.), (-2*z), -1])\n",
    "\n",
    "plot_stability_lmm(R_LF, x, y, title='Stability of Leap-frog')"
   ]
  },
  {
   "cell_type": "code",
   "execution_count": null,
   "metadata": {},
   "outputs": [],
   "source": []
  }
 ],
 "metadata": {
  "kernelspec": {
   "display_name": "Python 3",
   "language": "python",
   "name": "python3"
  },
  "language_info": {
   "codemirror_mode": {
    "name": "ipython",
    "version": 3
   },
   "file_extension": ".py",
   "mimetype": "text/x-python",
   "name": "python",
   "nbconvert_exporter": "python",
   "pygments_lexer": "ipython3",
   "version": "3.8.8"
  },
  "latex_envs": {
   "bibliofile": "biblio.bib",
   "cite_by": "apalike",
   "current_citInitial": 1,
   "eqLabelWithNumbers": true,
   "eqNumInitial": 0
  }
 },
 "nbformat": 4,
 "nbformat_minor": 2
}
