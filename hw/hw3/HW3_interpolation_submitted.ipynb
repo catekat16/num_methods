{
 "cells": [
  {
   "cell_type": "markdown",
   "metadata": {},
   "source": [
    "Before you turn this problem in, make sure everything runs as expected. First, **restart the kernel** (in the menubar, select Kernel$\\rightarrow$Restart) and then **run all cells** (in the menubar, select Cell$\\rightarrow$Run All).\n",
    "\n",
    "Make sure you fill in any place that says `YOUR CODE HERE` or \"YOUR ANSWER HERE\", as well as any collaborators you worked with:"
   ]
  },
  {
   "cell_type": "code",
   "execution_count": 7,
   "metadata": {},
   "outputs": [],
   "source": [
    "COLLABORATORS = \"N/A\""
   ]
  },
  {
   "cell_type": "markdown",
   "metadata": {},
   "source": [
    "---"
   ]
  },
  {
   "cell_type": "code",
   "execution_count": 8,
   "metadata": {},
   "outputs": [],
   "source": [
    "%matplotlib inline\n",
    "import numpy\n",
    "import matplotlib.pyplot as plt"
   ]
  },
  {
   "cell_type": "markdown",
   "metadata": {
    "deletable": false,
    "editable": false,
    "nbgrader": {
     "cell_type": "markdown",
     "checksum": "935818b1cc5498fcab64162ff74a4e0a",
     "grade": false,
     "grade_id": "cell-6537906896021329",
     "locked": true,
     "schema_version": 3,
     "solution": false
    }
   },
   "source": [
    "Before you turn this problem in, make sure everything runs as expected. First, restart the kernel (in the menubar, select Kernel $\\rightarrow$ Restart) and then run all cells (in the menubar, select Cell $\\rightarrow$ Run All).\n",
    "\n",
    "Make sure you fill in any place that says YOUR CODE HERE or \"YOUR ANSWER HERE\", as well as your name and collaborators below:"
   ]
  },
  {
   "cell_type": "markdown",
   "metadata": {
    "deletable": false,
    "editable": false,
    "nbgrader": {
     "cell_type": "markdown",
     "checksum": "0b16d783d23daac019787229d4c2e61a",
     "grade": false,
     "grade_id": "cell-5502088417300118",
     "locked": true,
     "schema_version": 3,
     "solution": false
    }
   },
   "source": [
    "# HW 3:  Interpolation and applications"
   ]
  },
  {
   "cell_type": "markdown",
   "metadata": {
    "deletable": false,
    "editable": false,
    "nbgrader": {
     "cell_type": "markdown",
     "checksum": "09aa3e7992cd994495709007184999f6",
     "grade": false,
     "grade_id": "cell-82472618555790",
     "locked": true,
     "schema_version": 3,
     "solution": false
    }
   },
   "source": [
    "## Question 1\n",
    "\n",
    "Consider data at three points $(x_0, y_0) = (0, 0)$, $(x_1, y_1) = (1, 2)$, and $(x_2, y_2) = (2, 2)$."
   ]
  },
  {
   "cell_type": "markdown",
   "metadata": {
    "deletable": false,
    "editable": false,
    "nbgrader": {
     "cell_type": "markdown",
     "checksum": "3b84eeedf2d36dfc3754dc397cd38e54",
     "grade": false,
     "grade_id": "cell-8265701073131704",
     "locked": true,
     "schema_version": 3,
     "solution": false
    }
   },
   "source": [
    "**(a)** [ 8 pts] Analytically find coefficients of the interpolating  polynomial $P_2(x)$ that passes through these three points in the following bases\n",
    "1. Monomial: $P(x) = p_0 + p_1 x + p_2 x^2$\n",
    "1. Lagrange: $P(x) = \\sum^2_{k=0} y_k \\ell_k(x)$\n",
    "\n",
    "\n",
    "and show that, independent of basis it's always the same polynomial.\n",
    "\n"
   ]
  },
  {
   "cell_type": "markdown",
   "metadata": {
    "deletable": false,
    "nbgrader": {
     "cell_type": "markdown",
     "checksum": "bdca4a8eb957567c3f00677e6a635cfa",
     "grade": true,
     "grade_id": "cell-3823725410153810",
     "locked": false,
     "points": 8,
     "schema_version": 3,
     "solution": true
    }
   },
   "source": [
    "**Monomial basis:**\n",
    "\n",
    "$$\n",
    "P(x) = p_0 + p_1 x + p_2 x^2\n",
    "$$\n",
    "\n",
    "$$ \n",
    "\\begin{bmatrix}\n",
    "1 & x_0 & x_0^2 \\\\\n",
    "1 & x_1 & x_1^2 \\\\\n",
    "1 & x_2 & x_2^2 \\\\\n",
    "\\end{bmatrix} \\begin{bmatrix}\n",
    "p_0 \\\\ p_1 \\\\ p_2 \\\\ \n",
    "\\end{bmatrix} = \n",
    "\\begin{bmatrix}\n",
    "y_0 \\\\ y_1 \\\\ y_2 \\\\\n",
    "\\end{bmatrix} \n",
    "$$\n",
    "\n",
    "$$ \n",
    "\\begin{bmatrix}\n",
    "1 & 0 & 0 \\\\\n",
    "1 & 1 & 1 \\\\\n",
    "1 & 2 & 4 \\\\\n",
    "\\end{bmatrix} \\begin{bmatrix}\n",
    "p_0 \\\\ p_1 \\\\ p_2 \\\\ \n",
    "\\end{bmatrix} = \n",
    "\\begin{bmatrix}\n",
    "0 \\\\ 2 \\\\ 2 \\\\\n",
    "\\end{bmatrix}\n",
    "$$\n",
    "\n",
    "$$ \n",
    "\\begin{bmatrix}\n",
    "1 & 0 & 0 &| & 0\\\\\n",
    "1 & 1 & 1 &| & 2\\\\\n",
    "1 & 2 & 4 &| & 4 \\\\\n",
    "\\end{bmatrix} \\overset{(2) - (1) ,\\ (3) - (1)} {\\rightarrow} \\begin{bmatrix}\n",
    "1 & 0 & 0 &| & 0\\\\\n",
    "0 & 1 & 1 &| & 2\\\\\n",
    "0 & 2 & 4 &| & 2 \\\\\n",
    "\\end{bmatrix} \\overset{-2(2)} {\\rightarrow} \n",
    "$$\n",
    "\n",
    "$$\n",
    "\\begin{bmatrix}\n",
    "1 & 0 & 0 &| & 0\\\\\n",
    "0 & 1 & 1 &| & 2\\\\\n",
    "0 & 0 & 2 &| & -2 \\\\\n",
    "\\end{bmatrix} \\overset{\\div 2} {\\rightarrow} \\begin{bmatrix}\n",
    "1 & 0 & 0 &| & 0\\\\\n",
    "0 & 1 & 1 &| & 2\\\\\n",
    "0 & 0 & 1 &| & -1 \\\\\n",
    "\\end{bmatrix} \\overset{-(3)} {\\rightarrow} \n",
    "$$\n",
    "\n",
    "$$\n",
    "\\begin{bmatrix}\n",
    "1 & 0 & 0 &| & 0\\\\\n",
    "0 & 1 & 0 &| & 3\\\\\n",
    "0 & 0 & 1 &| & -1 \\\\\n",
    "\\end{bmatrix} {\\rightarrow} \\begin{bmatrix}\n",
    "p_0 \\\\ p_1 \\\\ p_2 \\\\ \n",
    "\\end{bmatrix} = \n",
    "\\begin{bmatrix}\n",
    "0 \\\\ 3 \\\\ -1 \\\\\n",
    "\\end{bmatrix} \n",
    "$$\n",
    "\n",
    "$$\n",
    "P_2(x) = (-1)x^2 + 3x + 0 = -x^2 + 3x \\\\\n",
    "P_2(x) = -x^2 + 3x\n",
    "$$\n",
    "\n",
    "**Lagrange basis:**\n",
    "\n",
    "$$ (x_0, y_0), (x_1, y_1), (x_2, y_2) $$\n",
    "\n",
    "$$\n",
    "\\ell_0(x) = \\frac{x-x_1}{x_0-x_1} \\frac{x-x_2}{x_0-x_2} \\\\\n",
    "$$\n",
    "$$\n",
    "\\ell_1(x) = \\frac{x-x_0}{x_1-x_0} \\frac{x-x_2}{x_1-x_2} \\\\\n",
    "$$\n",
    "$$\n",
    "\\ell_2(x) = \\frac{x-x_0}{x_2-x_0} \\frac{x-x_1}{x_2-x_1} \\\\\n",
    "$$\n",
    "\n",
    "\n",
    "We know the following property:\n",
    "$$\n",
    "\\ell_0(x_0) = 1, \\ell_0(x_1) = \\ell_0(x_2) = 0 \\\\\n",
    "\\ell_1(x_0) = 1, \\ell_1(x_0) = \\ell_0(x_2) = 0 \\\\\n",
    "\\ell_2(x_0) = 1, \\ell_2(x_0) = \\ell_0(x_1) = 0\n",
    "$$\n",
    "\n",
    "\n",
    "For the Lagrange basis,\n",
    "$$\n",
    "    P_2(x)=f_0\\ell_0(x) + f_1\\ell_1(x) + f_2\\ell_2(x)\n",
    "$$\n",
    "\n",
    "\n",
    "We have\n",
    "$$\n",
    "P_2(x_0) = y_0 = f_0 \\\\\n",
    "P_2(x_1) = y_1 = f_1 \\\\\n",
    "P_2(x_2) = y_2 = f_2\n",
    "$$\n",
    "\n",
    "$$\n",
    "(0,0), (1,2), (2,2)\n",
    "$$\n",
    "\n",
    "Hence\n",
    "$$\n",
    "P_2(x) = f_0\\ell_0(x) + f_1\\ell_1(x) + f_2\\ell_2(x) \\\\\n",
    "$$\n",
    "\n",
    "$$\n",
    "= f_0\\frac{x-x_1}{x_0-x_1} \\frac{x-x_2}{x_0-x_2} + f_1\\frac{x-x_0}{x_1-x_0} \\frac{x-x_2}{x_1-x_2} + f_2\\frac{x-x_0}{x_2-x_0} \\frac{x-x_1}{x_2-x_1} \\\\\n",
    "$$\n",
    "\n",
    "$$\n",
    "= (0)\\frac{x-1}{0-1} \\frac{x-2}{0-2} + (2)\\frac{x-0}{1-0} \\frac{x-2}{1-2} + (2)\\frac{x-0}{2-0} \\frac{x-1}{2-1} \\\\\n",
    "$$\n",
    "\n",
    "$$\n",
    "= 2(x)(-(x-2)) + (2) \\frac{x}{2} \\frac{x-1}{1} \n",
    "$$\n",
    "\n",
    "$$\n",
    "= -2x^2 + 4x + x^2 - x  \n",
    "$$\n",
    "\n",
    "$$\n",
    "= -x^2 + 3x \n",
    "$$"
   ]
  },
  {
   "cell_type": "markdown",
   "metadata": {
    "deletable": false,
    "editable": false,
    "nbgrader": {
     "cell_type": "markdown",
     "checksum": "ace8c21d5f29d3cdcc7da5754f17aeb5",
     "grade": false,
     "grade_id": "cell-3903963456629954",
     "locked": true,
     "schema_version": 3,
     "solution": false
    }
   },
   "source": [
    "**(b)** [4 pts] Any $N+1$ distinct values of $x$ uniquely define the $N+1$ Lagrange polynomials $\\ell_0(x), \\ell_1(x)\\ldots\\ell_N(x)$\n",
    "\n",
    "show that these functions satisfy \n",
    "\n",
    "$$\\sum^N_{i=0} \\ell_i(x) = 1$$\n",
    "\n",
    "for all values of $x$ (not just the nodes).  We say that the Lagrange polynomials form a \"Partition of Unity\" because they always sum to 1.\n",
    "\n",
    "Hint:  consider interpolation of a constant function, $f(x) = c$ sampled at $N+1$ distinct points.\n"
   ]
  },
  {
   "cell_type": "markdown",
   "metadata": {
    "deletable": false,
    "nbgrader": {
     "cell_type": "markdown",
     "checksum": "a45926dd69a036c2edfd6cf82189426c",
     "grade": true,
     "grade_id": "cell-5902170639545808",
     "locked": false,
     "points": 4,
     "schema_version": 3,
     "solution": true
    }
   },
   "source": [
    "$$\\{ (x_0, c), (x_1, c), \\cdots , (x_N, c) \\}$$\n",
    "\n",
    "$$\n",
    "P_N(x) = \\sum^N_{i=0} y_i \\ell_i(x) = \\sum^N_{i=0} c \\ell_i(x)\n",
    "$$\n",
    "By uniqueness we take $P_N(x) = c$. Therefore \n",
    "$$\n",
    "c = \\sum^N_{i=0} c \\ell_i(x) \\Rightarrow 1 = \\sum^N_{i=0} \\ell_i(x)\n",
    "$$"
   ]
  },
  {
   "cell_type": "markdown",
   "metadata": {
    "deletable": false,
    "editable": false,
    "nbgrader": {
     "cell_type": "markdown",
     "checksum": "ac4c96d7d73e5fc2bed61803c1dfe1b6",
     "grade": false,
     "grade_id": "cell-6806070912155660",
     "locked": true,
     "schema_version": 3,
     "solution": false
    }
   },
   "source": [
    "## Question 2: Fun with Chebyshev Polynomials"
   ]
  },
  {
   "cell_type": "markdown",
   "metadata": {
    "deletable": false,
    "editable": false,
    "nbgrader": {
     "cell_type": "markdown",
     "checksum": "41e33ea4dd4d761a50dc408a19e71687",
     "grade": false,
     "grade_id": "cell-8344454aa3c6cd29",
     "locked": true,
     "schema_version": 3,
     "solution": false,
     "task": false
    }
   },
   "source": [
    "**(a)** [4 pts] The $n$th Chebyshev polynomial is characterized (up to a constant) by the identity\n",
    "\n",
    "$$T_n(\\cos \\theta) = \\cos (n \\theta)$$\n",
    "\n",
    "Use this identity to show that the Chebyshev polynomials are orthogonal on $x\\in[-1,1]$ with respect to the weight\n",
    "\n",
    "$$\\omega(x) = \\frac{1}{\\sqrt{1 - x^2}}$$\n",
    "\n",
    "To do this you must prove that\n",
    "\n",
    "$$\\int^1_{-1} \\omega(x) T_n(x) T_m(x) dx = \\left \\{ \\begin{aligned} \n",
    "a & ~ & m = n \\\\ \n",
    "0 & ~ & m \\neq n \n",
    "\\end{aligned} \\right .$$\n",
    "\n",
    "where $a$ is a finite constant (also find this coefficient).  Note that you may have multiple non-zero coefficients $a$.  Make sure to cover all these cases and list the conditions that you will find these values."
   ]
  },
  {
   "cell_type": "markdown",
   "metadata": {
    "deletable": false,
    "nbgrader": {
     "cell_type": "markdown",
     "checksum": "30fc92751374bb2710d4fe7648e32a75",
     "grade": true,
     "grade_id": "cell-8354694405440956",
     "locked": false,
     "points": 4,
     "schema_version": 3,
     "solution": true
    }
   },
   "source": [
    "$$\\omega(\\cos \\theta) = \\frac{1}{\\sqrt{1 - \\cos^2\\theta}} = \\frac{1}{\\sin \\theta} \n",
    "$$\n",
    "\n",
    "$$\\int^1_{-1} \\omega(x) T_n(x) T_m(x) dx = \\\\ $$ (use substitution, $x=\\cos \\theta, dx = -\\sin \\theta d\\theta$)\n",
    "\n",
    "$$ = \\int^0_{\\pi} \\frac{1}{\\sin \\theta} \\cos (n\\theta) \\cos (m\\theta) (-\\sin \\theta) d\\theta$$\n",
    "$$ = \\int^{\\pi}_0 \\cos \\theta \\cos (m\\theta) d\\theta$$\n",
    "\n",
    "$$ = \\frac{1}{2}\\int^{\\pi}_0 (\\cos (m+n)\\theta + \\cos (m-n)\\theta)d\\theta$$\n",
    "\n",
    "In the case that $m \\neq n$, we get:\n",
    "\n",
    "$$\n",
    " \\frac{1}{2}\n",
    " \\left[  \\frac{1}{m+n} \\sin(m+n)\\theta + \\frac{1}{m-n} \\sin(m-n)\\theta  \\right] \\Biggr|_{0}^{\\pi}\n",
    "= 0\n",
    "$$\n",
    "\n",
    "In the case that $m = n$, we get:\n",
    "\n",
    "$$\n",
    " \\frac{1}{2}\n",
    " \\int^{\\pi}_0 \\left[  \\cos(2n\\theta) + 1 \\right]d\\theta = \\frac{1}{2} \\frac{\\sin(2n\\theta)}{2n} + \\frac{1}{2}\\theta   \\Biggr|_{0}^{\\pi}\n",
    "= \\frac{\\pi }{2}\n",
    "$$\n",
    "\n",
    "Hence \n",
    "$$\\int^1_{-1} \\omega(x) T_n(x) T_m(x) dx = \\left \\{ \\begin{aligned} \n",
    "\\frac{\\pi }{2} & ~ & m = n \\\\ \n",
    "0 & ~ & m \\neq n \n",
    "\\end{aligned} \\right .$$\n",
    "$$a = \\frac{\\pi }{2}$$\n"
   ]
  },
  {
   "cell_type": "markdown",
   "metadata": {
    "deletable": false,
    "editable": false,
    "nbgrader": {
     "cell_type": "markdown",
     "checksum": "851c8fd33ea9abf46564acc344e400ca",
     "grade": false,
     "grade_id": "cell-87edfee5e38ec2f5",
     "locked": true,
     "schema_version": 3,
     "solution": false,
     "task": false
    }
   },
   "source": [
    "**(b)** [4 pts] Consider the  shifted Gaussian \n",
    "$$ f(x) = e^{-(x - 3)^2} $$ on the interval $x\\in[0,6]$\n",
    "\n",
    "make a plot comparing the polynomial interpolant through $N=11$ points using \n",
    "* Evenly spaced points\n",
    "* The appropriate Chebyshev nodes (i.e. roots of $T_{11}$: **note** you will need to transform the nodes defined on the interval $s\\in[-1,1]$ to $x\\in[0, 6]$)\n",
    "\n",
    "Be sure to show both the interpolation points and a reasonably resolved interpolating polynomial $P_{10}(x)$, and label all lines and axes.\n",
    "\n",
    "You can use any of the routines from the notes or `numpy.polyfit` and `numpy.polyval` to actually compute and plot the interpolating polynomial.\n",
    "\n",
    "For fun, experiment with other functions (e.g. Runge's function $f(x) = 1/(1 + 25x^2)$)"
   ]
  },
  {
   "cell_type": "code",
   "execution_count": 57,
   "metadata": {
    "deletable": false,
    "nbgrader": {
     "cell_type": "code",
     "checksum": "2a1162be101f1f24b8346ec12954767b",
     "grade": true,
     "grade_id": "cell-02c4fc987bf9ddca",
     "locked": false,
     "points": 4,
     "schema_version": 3,
     "solution": true,
     "task": false
    }
   },
   "outputs": [
    {
     "data": {
      "image/png": "[encoded data removed]",
      "text/plain": [
       "<Figure size 1152x432 with 2 Axes>"
      ]
     },
     "metadata": {
      "needs_background": "light"
     },
     "output_type": "display_data"
    }
   ],
   "source": [
    "import numpy as np\n",
    "# (lecture 6)\n",
    "# ====================================================\n",
    "# Compute the Lagrange basis (\\ell_i(x))\n",
    "def lagrange_basis(x, data):\n",
    "    \"\"\"Compute Lagrange basis at x given N data points\n",
    "    \n",
    "    params:\n",
    "    -------\n",
    "        x: ndarray\n",
    "            1-d Array of floats\n",
    "        data: ndarray of shape (N,2)\n",
    "            2-d Array of data where each row is [ x_i, y_i ]\n",
    "    returns:\n",
    "    --------\n",
    "        basis: ndarray of shape (N, x.shape)\n",
    "            : 2-D array of lagrange basis functions evaluated at x\n",
    "            \n",
    "    \"\"\"\n",
    "    basis = numpy.ones((data.shape[0], x.shape[0]))\n",
    "    for i in range(data.shape[0]):\n",
    "        for j in range(data.shape[0]):\n",
    "            if i != j:\n",
    "                basis[i, :] *= (x - data[j, 0]) / (data[i, 0] - data[j, 0])\n",
    "    return basis\n",
    "\n",
    "# ====================================================\n",
    "# Calculate full polynomial\n",
    "def poly_interpolant(x, data):\n",
    "    \"\"\"Compute polynomial interpolant of (x,y) using Lagrange basis\"\"\"\n",
    "    P = numpy.zeros(x.shape[0])\n",
    "    basis = lagrange_basis(x, data)\n",
    "    for n in range(data.shape[0]):\n",
    "        P += basis[n, :] * data[n, 1]\n",
    "        \n",
    "    #print(P)\n",
    "    return P\n",
    "\n",
    "# ====================================================\n",
    "\n",
    "def f(x):\n",
    "    return np.exp(-(x-3)**2)\n",
    "\n",
    "\n",
    "def compare_poly_interpolant(N=5): # N is the number of grid points\n",
    "    x = numpy.linspace(0., 6., 100)\n",
    "    num_points = 11\n",
    "    \n",
    "    \n",
    "    #x = numpy.linspace(x_min, x_max)\n",
    "    #P_N = numpy.polyval(p, x)\n",
    "    grid_points = numpy.linspace(5, N)\n",
    "    #print(grid_points)\n",
    "    rel_cheb_err = []\n",
    "    rel_equidistant_err = []\n",
    "    \n",
    "    for i in grid_points:\n",
    "        #print(f\"i is: {i}\")\n",
    "        # ============================================================\n",
    "        #  Equidistant nodes\n",
    "        equidistant_data = numpy.empty((num_points, 2))\n",
    "        equidistant_data[:, 0] = numpy.linspace(0, 6, num_points)\n",
    "        equidistant_data[:, 1] = f(equidistant_data[:, 0])\n",
    "        N = equidistant_data.shape[0] - 1\n",
    "\n",
    "        P_lagrange = poly_interpolant(x, equidistant_data)\n",
    "\n",
    "        # ============================================================\n",
    "        #  Chebyshev nodes\n",
    "        chebyshev_data = numpy.empty((num_points, 2))\n",
    "        chebyshev_data[:, 0] = numpy.cos((2.0 * numpy.arange(1, num_points + 1) - 1.0) * numpy.pi / (2.0 * num_points))\n",
    "        # need to map:\n",
    "        # note you will need to transform the nodes defined on the interval  𝑠∈[−1,1]  to  𝑥∈[0,6] )\n",
    "        # to map the interval  [−1,1]  onto  [𝑎,𝑏], use the affine transformation 𝑥(𝑠)=𝛼+𝛽𝑠 defined by a scaling  𝛽  and a shift  𝛼\n",
    "        # solve 𝛼=(𝑎+𝑏)/2 & 𝛽=(𝑏−𝑎)/2\n",
    "\n",
    "        alpha = (0+6)/2\n",
    "        beta = (6-0)/2\n",
    "        # 𝑥(𝑠)=𝛼+𝛽𝑠\n",
    "        chebyshev_data[:, 0] = alpha + beta * chebyshev_data[:, 0]\n",
    "        chebyshev_data[:, 1] = f(chebyshev_data[:, 0])\n",
    "\n",
    "        P_cheby1 = poly_interpolant(x, chebyshev_data)\n",
    "        #print(P_cheby1)\n",
    "\n",
    "\n",
    "\n",
    "        # Fit directly with Chebyshev polynomials\n",
    "        #coeff = numpy.polynomial.chebyshev.chebfit(chebyshev_data[:, 0], chebyshev_data[:, 1], N)\n",
    "        #P_cheby2 = numpy.polynomial.chebyshev.chebval(x, coeff)\n",
    "\n",
    "        # Check on unique polynomials\n",
    "        #print(numpy.allclose(P_cheby1, P_cheby2))\n",
    "\n",
    "        # calculate errornorms for different interpolants\n",
    "        #print(P_lagrange)\n",
    "        #print(f(x))\n",
    "        equidistant_err = numpy.linalg.norm(P_lagrange - f(x))\n",
    "        #print(equidistant_err)\n",
    "        rel_equidistant_err.append(equidistant_err/np.linalg.norm(f(x)))\n",
    "        #print(f\"rel_equidistant_err: {rel_equidistant_err}\")\n",
    "        cheb_err = numpy.linalg.norm(P_cheby1 - f(x))\n",
    "        rel_cheb_err.append(cheb_err/np.linalg.norm(f(x)))\n",
    "        #print(f\"rel_cheb_err: {rel_cheb_err}\")\n",
    "\n",
    "        #print(f\"len of x axis data: {len(equidistant_data[:, 0])}\")\n",
    "        #print(f\"len of y axis data: {len(equidistant_data[:, 1])}\") \n",
    "\n",
    "    # ============================================================\n",
    "    # Plot the results\n",
    "    fig = plt.figure(figsize=(16,6))\n",
    "    fig.subplots_adjust(hspace=.5)\n",
    "\n",
    "    axes = fig.add_subplot(1, 2, 1)\n",
    "    axes.plot(x, P_lagrange, 'b', label=\"$P_%s(x)$\" % N)\n",
    "    axes.plot(x, f(x), 'k', label=\"True $f(x)$\")\n",
    "    axes.plot(equidistant_data[:, 0], equidistant_data[:, 1], 'ro', label=\"data\")\n",
    "    axes.set_title(\"Equispaced Points: err = {:5.5g}\".format(equidistant_err),fontsize=18)\n",
    "    axes.set_xlabel(\"x\",fontsize=16)\n",
    "    axes.set_ylabel(\"y\",fontsize=16)\n",
    "    axes.grid()\n",
    "    axes.legend(loc=8,fontsize=16)\n",
    "    #print('Equispaced error = {}'.format(numpy.linalg.norm(P_lagrange - f(x))))\n",
    "\n",
    "    axes = fig.add_subplot(1, 2, 2)\n",
    "    axes.plot(x, f(x), 'k', label=\"True $f(x)$\")\n",
    "    axes.plot(x, P_cheby1, 'b', label=\"$P_%s(x)$\" % N)\n",
    "    axes.plot(chebyshev_data[:, 0], chebyshev_data[:, 1], 'ro', label=\"data\")\n",
    "\n",
    "    axes.set_title(\"Chebyshev Points: err = {:5.5g}\".format(cheb_err),fontsize=18)\n",
    "    axes.set_xlabel(\"x\",fontsize=16)\n",
    "    axes.set_ylabel(\"y\",fontsize=16)\n",
    "    axes.legend(loc=1,fontsize=16)\n",
    "    axes.grid()\n",
    "    #print('Chebyshev error = {}'.format(numpy.linalg.norm(P_cheby1 - f(x))))\n",
    "\n",
    "\n",
    "    plt.show()\n",
    "\n",
    "\n",
    "compare_poly_interpolant()\n"
   ]
  },
  {
   "cell_type": "markdown",
   "metadata": {
    "deletable": false,
    "editable": false,
    "nbgrader": {
     "cell_type": "markdown",
     "checksum": "407a3047713db39c9682e9671ffcac56",
     "grade": false,
     "grade_id": "cell-963631730bd282f4",
     "locked": true,
     "schema_version": 3,
     "solution": false,
     "task": false
    }
   },
   "source": [
    "**(c)** [4 pts] define the relative error as\n",
    "        \n",
    "$$\n",
    " r = \\frac{||f(x) - P_N(x)||}{||f(x)||}\n",
    "$$\n",
    "\n",
    "where $||\\cdot||$ is an appropriate norm (length) of a vector, in python you can calculate this by\n",
    "\n",
    "```python\n",
    "x = numpy.linspace(x_min, x_max)\n",
    "P_N = numpy.polyval(p, x)\n",
    "\n",
    "err = f(x) - P_N(x)\n",
    "r = numpy.linalg.norm(err)/numpy.linalg.norm(f(x))\n",
    "```\n",
    "\n",
    "* Make a well labeled plot showing log(r) vs number of grid points $N$ for $N\\in[5,30]$ \n",
    "* Comment briefly on your results. Some questions to consider are:\n",
    "    *  does $P_N(x)\\rightarrow f(x)$ as $N\\rightarrow\\infty$?\n",
    "    *  Is one interpolant more accurate than the other?\n",
    "    * Anything else you notice"
   ]
  },
  {
   "cell_type": "code",
   "execution_count": 71,
   "metadata": {
    "deletable": false,
    "nbgrader": {
     "cell_type": "code",
     "checksum": "b501a285d15a7fef6e0dbb6a2fca307e",
     "grade": true,
     "grade_id": "cell-3a61e29e4740bd7d",
     "locked": false,
     "points": 4,
     "schema_version": 3,
     "solution": true,
     "task": false
    }
   },
   "outputs": [
    {
     "data": {
      "image/png": "[encoded data removed]",
      "text/plain": [
       "<Figure size 1152x432 with 1 Axes>"
      ]
     },
     "metadata": {
      "needs_background": "light"
     },
     "output_type": "display_data"
    },
    {
     "data": {
      "image/png": "[encoded data removed]",
      "text/plain": [
       "<Figure size 1152x432 with 1 Axes>"
      ]
     },
     "metadata": {
      "needs_background": "light"
     },
     "output_type": "display_data"
    }
   ],
   "source": [
    "def compare_poly_interpolant(N=5): # N is the number of grid points\n",
    "    x = numpy.linspace(0., 6., 100)\n",
    "    #num_points = 11\n",
    "    \n",
    "    #x = numpy.linspace(x_min, x_max)\n",
    "    #P_N = numpy.polyval(p, x)\n",
    "    grid_points = numpy.linspace(5, N)\n",
    "    #print(grid_points)\n",
    "    rel_cheb_err = []\n",
    "    rel_equidistant_err = []\n",
    "    \n",
    "    for i in grid_points:\n",
    "        num_points = int(i)\n",
    "        #print(f\"i is: {i}\")\n",
    "        # ============================================================\n",
    "        #  Equidistant nodes\n",
    "        equidistant_data = numpy.empty((num_points, 2))\n",
    "        equidistant_data[:, 0] = numpy.linspace(0, 6, num_points)\n",
    "        equidistant_data[:, 1] = f(equidistant_data[:, 0])\n",
    "        N = equidistant_data.shape[0] - 1\n",
    "\n",
    "        P_lagrange = poly_interpolant(x, equidistant_data)\n",
    "\n",
    "        # ============================================================\n",
    "        #  Chebyshev nodes\n",
    "        chebyshev_data = numpy.empty((num_points, 2))\n",
    "        chebyshev_data[:, 0] = numpy.cos((2.0 * numpy.arange(1, num_points + 1) - 1.0) * numpy.pi / (2.0 * num_points))\n",
    "        # need to map:\n",
    "        # note you will need to transform the nodes defined on the interval  𝑠∈[−1,1]  to  𝑥∈[0,6] )\n",
    "        # to map the interval  [−1,1]  onto  [𝑎,𝑏], use the affine transformation 𝑥(𝑠)=𝛼+𝛽𝑠 defined by a scaling  𝛽  and a shift  𝛼\n",
    "        # solve 𝛼=(𝑎+𝑏)/2 & 𝛽=(𝑏−𝑎)/2\n",
    "\n",
    "        alpha = (0+6)/2\n",
    "        beta = (6-0)/2\n",
    "        # 𝑥(𝑠)=𝛼+𝛽𝑠\n",
    "        chebyshev_data[:, 0] = alpha + beta * chebyshev_data[:, 0]\n",
    "        chebyshev_data[:, 1] = f(chebyshev_data[:, 0])\n",
    "\n",
    "        P_cheby1 = poly_interpolant(x, chebyshev_data)\n",
    "        #print(P_cheby1)\n",
    "\n",
    "\n",
    "\n",
    "        # Fit directly with Chebyshev polynomials\n",
    "        #coeff = numpy.polynomial.chebyshev.chebfit(chebyshev_data[:, 0], chebyshev_data[:, 1], N)\n",
    "        #P_cheby2 = numpy.polynomial.chebyshev.chebval(x, coeff)\n",
    "\n",
    "        # Check on unique polynomials\n",
    "        #print(numpy.allclose(P_cheby1, P_cheby2))\n",
    "\n",
    "        # calculate errornorms for different interpolants\n",
    "        #print(P_lagrange)\n",
    "        #print(f(x))\n",
    "        equidistant_err = numpy.linalg.norm(P_lagrange - f(x))\n",
    "        #print(equidistant_err)\n",
    "        rel_equidistant_err.append(equidistant_err/np.linalg.norm(f(x)))\n",
    "        #print(f\"rel_equidistant_err: {rel_equidistant_err}\")\n",
    "        cheb_err = numpy.linalg.norm(P_cheby1 - f(x))\n",
    "        rel_cheb_err.append(cheb_err/np.linalg.norm(f(x)))\n",
    "        #print(f\"rel_cheb_err: {rel_cheb_err}\")\n",
    "\n",
    "        #print(f\"len of x axis data: {len(equidistant_data[:, 0])}\")\n",
    "        #print(f\"len of y axis data: {len(equidistant_data[:, 1])}\") \n",
    "\n",
    "    fig = plt.figure(figsize=(16,6))\n",
    "    fig.subplots_adjust(hspace=.5)\n",
    "\n",
    "    axes = fig.add_subplot(1, 2, 1)\n",
    "    #axes.plot(x, P_lagrange, 'b', label=\"$P_%s(x)$\" % N)\n",
    "    #axes.plot(x, f(x), 'k', label=\"True $f(x)$\")\n",
    "    axes.plot(grid_points, np.log(rel_cheb_err), label=\"chebyshev relative error\")\n",
    "    axes.plot(grid_points, np.log(rel_equidistant_err), label=\"equidistant relative error\")\n",
    "    #axes.plot(equidistant_data[:, 0], equidistant_data[:, 1], 'ro', label=\"data\")\n",
    "    axes.set_title(\"log(r) vs number of grid points N\", fontsize=18)\n",
    "    #axes.set_title(\"Equispaced Points: err = {:5.5g}\".format(equidistant_err),fontsize=18)\n",
    "    axes.set_xlabel(\"number of grid points\",fontsize=16)\n",
    "    axes.set_ylabel(\"relative error\",fontsize=16)\n",
    "    axes.grid()\n",
    "    axes.legend(loc=8,fontsize=16)\n",
    "    #print('Equispaced error = {}'.format(numpy.linalg.norm(P_lagrange - f(x))))\n",
    "    plt.show()\n",
    "    \n",
    "    \n",
    "compare_poly_interpolant(10)\n",
    "    \n",
    "compare_poly_interpolant(30)\n"
   ]
  },
  {
   "cell_type": "markdown",
   "metadata": {
    "deletable": false,
    "nbgrader": {
     "cell_type": "markdown",
     "checksum": "e3b7bad1b549b90f5d44416f05d4d9c0",
     "grade": true,
     "grade_id": "cell-9bd361f6e06eb56c",
     "locked": false,
     "points": 2,
     "schema_version": 3,
     "solution": true,
     "task": false
    }
   },
   "source": [
    "As $N\\rightarrow\\infty$, $P_N(x)\\rightarrow f(x)$ \n",
    "For both the number of grid points N is smaller and for N is on the larger side, the interpolant using chebyshev nodes converges faster than the interpolan using equidistant nodes."
   ]
  },
  {
   "cell_type": "markdown",
   "metadata": {
    "deletable": false,
    "editable": false,
    "nbgrader": {
     "cell_type": "markdown",
     "checksum": "27b49713fe8cae4dff40225f79ad92df",
     "grade": false,
     "grade_id": "cell-3224734890563854",
     "locked": true,
     "schema_version": 3,
     "solution": false
    }
   },
   "source": [
    "## Question 3\n",
    "\n",
    "We can often reformulate finite difference approximations as matrix-vector products.   \n",
    "\n",
    "Here we will construct a matrix   $D$  such that multiplying a vector of $\\mathbf{y}$ values would lead to a second order approximation of the First derivative for the given data. \n",
    "\n",
    "In other words, defining the two vectors   $\\mathbf{x}=[x_0, x_1,\\ldots,x_N]^T$ and $\\mathbf{y}=[y_0, y_1,\\ldots,y_N]^T$  such that\n",
    "\n",
    "$$\\mathbf{y} = f(\\mathbf{x})$$\n",
    "\n",
    "for some scalar function $f$,  find a matrix $D$ such that \n",
    "\n",
    "$$\n",
    "f'(\\mathbf{x}) \\approx D\\mathbf{y}\n",
    "$$"
   ]
  },
  {
   "cell_type": "markdown",
   "metadata": {
    "deletable": false,
    "editable": false,
    "nbgrader": {
     "cell_type": "markdown",
     "checksum": "75ec0cda1d28b8a0bcdb536eaff4233f",
     "grade": false,
     "grade_id": "cell-5c735e9080300d72",
     "locked": true,
     "schema_version": 3,
     "solution": false
    }
   },
   "source": [
    "**(a)** [16] Using any method of your choice, derive the following finite-difference formulas for 3 equispaced points $x_i, x_{i+1}, x_{i+2}$ \n",
    "\n",
    "* 2nd-order accurate approximation to the *1st derivative* at  point \n",
    "    * $x_i$ (forward differences)\n",
    "    * $x_{i+1}$ (centered differences)\n",
    "    * $x_{i+2}$ (backward differences)\n",
    "* 2nd-order accurate approximation to the *2nd derivative* evaluated at each point (hint: think before you grind)\n",
    "\n",
    "Some hints:\n",
    "1. consider the interpolating polynomial $P_2(x)$ through those 3 points and calculate $P'_2(x)$ at each point.\n",
    "2. the method of undetermined coefficients on Taylor's series can be useful here as well\n",
    "\n"
   ]
  },
  {
   "cell_type": "markdown",
   "metadata": {
    "deletable": false,
    "nbgrader": {
     "cell_type": "markdown",
     "checksum": "b46a1b3dc8a64dd94422b7611d5aac79",
     "grade": true,
     "grade_id": "cell-88d2d6f7dba4237d",
     "locked": false,
     "points": 16,
     "schema_version": 3,
     "solution": true
    }
   },
   "source": [
    "From lecture 7, we know that the 2nd order polynomial through 3 points $x=x_0, x_1, x_2$ is:\n",
    "\n",
    "$$\n",
    "    P_2(x)=f_0\\ell_0(x) + f_1\\ell_1(x) + f_2\\ell_2(x)\n",
    "$$\n",
    "\n",
    "\n",
    "$$\n",
    "P_2(x) = f_0\\frac{(x-x_1)(x-x_2)}{(x_0-x_1)(x_0-x_2)} + f_1\\frac{(x-x_0)(x-x_2)}{(x_1-x_0)(x_1-x_2)} + f_2\\frac{(x-x_0)(x-x_1)}{(x_2-x_0)(x_2-x_1)}\n",
    "$$\n",
    "\n",
    "\n",
    "The first derivative of this polynomial for all $x\\in[x_0,x_2]$ is\n",
    "\n",
    "$$\n",
    "P'_2(x) = f_0\\frac{(x-x_1)+(x-x_2)}{(x_0-x_1)(x_0-x_2)} + f_1\\frac{(x-x_0)+(x-x_2)}{(x_1-x_0)(x_1-x_2)} + f_2\\frac{(x-x_0)+(x-x_1)}{(x_2-x_0)(x_2-x_1)}\n",
    "$$\n",
    "$$\n",
    "$$\n",
    "\n",
    "**Forward Differences Case:** equally spaced nodes $x = [0, h, 2h]$ where $h=\\Delta x$ is the grid spacing\n",
    "\n",
    "$P'_2(x)$ becomes:\n",
    "$$\n",
    "P'_2(x) = f_0\\frac{2x-3h}{2h^2} + f_1\\frac{2x-2h}{-h^2} + f_2\\frac{2x-h}{2h^2}\n",
    "$$\n",
    "\n",
    "then if we evaluate $P'_2(x)$ at the three nodes  $0, h, 2h$ yields\n",
    "\n",
    "$$\n",
    "P'_2(0) = \\frac{-3f_0 + 4f_1 -f_2}{2h}, \\quad\\quad P'_2(h) = \\frac{-f_0 + f_2}{2h}, \\quad\\quad P'_2(2h) = \\frac{f_0 -4f_1 + 3f_2}{2h} \n",
    "$$\n",
    "\n",
    "\n",
    "\n",
    "**Centered Differences Case:** equally spaced nodes $x = [-h, 0, h]$ where $h=\\Delta x$ is the grid spacing\n",
    "\n",
    "$P'_2(x)$ becomes:\n",
    "$$\n",
    "P'_2(x) = f_0\\frac{2x-h}{2h^2} + f_1\\frac{2x}{-h^2} + f_2\\frac{2x+h}{2h^2}\n",
    "$$\n",
    "\n",
    "then if we evaluate $P'_2(x)$ at the three nodes  $-h,0,h$ yields (corresponding to order, same as for forward differences case!)\n",
    "\n",
    "$$\n",
    "P'_2(-h) = \\frac{-3f_0 + 4f_1 -f_2}{2h}, \\quad\\quad P'_2(0) = \\frac{-f_0 + f_2}{2h}, \\quad\\quad P'_2(h) = \\frac{f_0 -4f_1 + 3f_2}{2h} \n",
    "$$\n",
    "\n",
    "**Backward Differences Case:** equally spaced nodes $x = [-2h, -h, 0]$ where $h=\\Delta x$ is the grid spacing\n",
    "\n",
    "$P'_2(x)$ becomes:\n",
    "$$\n",
    "P'_2(x) = f_0\\frac{2x+h}{2h^2} + f_1\\frac{2x+2h}{-h^2} + f_2\\frac{2x+3h}{2h^2}\n",
    "$$\n",
    "\n",
    "then if we evaluate $P'_2(x)$ at the three nodes  $-2h,-h,0$ yields (corresponding to order, same as for forward and centered differences cases!)\n",
    "\n",
    "$$\n",
    "P'_2(-2h) = \\frac{-3f_0 + 4f_1 -f_2}{2h}, \\quad\\quad P'_2(-h) = \\frac{-f_0 + f_2}{2h}, \\quad\\quad P'_2(0) = \\frac{f_0 -4f_1 + 3f_2}{2h} \n",
    "$$\n",
    "\n",
    "Therefore, for forward differences: $$f'(x_i)=\\frac{-3f_0 + 4f_1 -f_2}{2h},$$ for centered differences, $$\\quad\\quad f'(x_{i+1})=\\frac{-f_0 + f_2}{2h},$$ and for backward differences, $$f'(x_{i+2})=\\frac{f_0 -4f_1 + 3f_2}{2h}$$\n",
    "\n",
    "**2nd-order accurate approximation to the 2nd derivative evaluated at each point:**\n",
    "\n",
    "go from \n",
    "$$P'_2(x) = f_0\\frac{(x-x_1)+(x-x_2)}{(x_0-x_1)(x_0-x_2)} + f_1\\frac{(x-x_0)+(x-x_2)}{(x_1-x_0)(x_1-x_2)} + f_2\\frac{(x-x_0)+(x-x_1)}{(x_2-x_0)(x_2-x_1)}$$\n",
    "\n",
    "to the second derivative\n",
    "$$P''_2(x) = f_0\\frac{2}{(x_0-x_1)(x_0-x_2)} + f_1\\frac{2}{(x_1-x_0)(x_1-x_2)} + f_2\\frac{2}{(x_2-x_0)(x_2-x_1)}$$\n",
    "\n",
    "and having the same system of equally spaced nodes before where \n",
    "$$\n",
    "x_2 - x_1 = x_1 - x_0 = h\n",
    "$$ \n",
    "$$\n",
    "x_{i+2} - x_{i+1} = x_{i+1} - x_i = h \\\\\n",
    "$$ \n",
    "\n",
    "$$P''_2(x) = f_0\\frac{2}{2h^2} + f_1\\frac{2}{-h^2} + f_2\\frac{2}{2h^2}$$\n",
    "\n",
    "$$P''_2(x) = \\begin{bmatrix}\n",
    "\\frac{1}{h^2} & -\\frac{2}{h^2} & \\frac{1}{h^2} \\\\\n",
    "\\end{bmatrix} \\begin{bmatrix}\n",
    "f_0 \\\\ f_1 \\\\ f_2 \\\\ \n",
    "\\end{bmatrix}$$\n",
    "\n",
    "$$\\begin{bmatrix}\n",
    "P''_2(x_i) \\\\ P''_2(x_{i+1}) \\\\ P'_2(x_{i+2}) \\\\\n",
    "\\end{bmatrix} = \\frac{1}{2\\Delta x}\n",
    "\\begin{bmatrix}\n",
    "1 & -2 & 1 \\\\\n",
    "1 & -2 & 1 \\\\\n",
    "1 & -2 & 1 \\\\\n",
    "\\end{bmatrix} \\begin{bmatrix}\n",
    "f_0 \\\\ f_1 \\\\ f_2 \\\\ \n",
    "\\end{bmatrix} \\\\\n",
    "$$\n"
   ]
  },
  {
   "cell_type": "markdown",
   "metadata": {
    "deletable": false,
    "editable": false,
    "nbgrader": {
     "cell_type": "markdown",
     "checksum": "5b4d3625936b76ee346bf8290df0a272",
     "grade": false,
     "grade_id": "cell-7885120873385504",
     "locked": true,
     "schema_version": 3,
     "solution": false
    }
   },
   "source": [
    "**(b)** [4] Now consider an equispaced set of points  $y_i = f(x_i)$.  Can you describe the structure of a consistent 2nd order, first derivative matrix $D$,  such that \n",
    "\n",
    "$$\n",
    "    f'(\\mathbf{x}) \\approx D\\mathbf{y}\n",
    "$$\n",
    "\n",
    "returns the consistent 1st derivative at every point (including the end points)"
   ]
  },
  {
   "cell_type": "markdown",
   "metadata": {
    "deletable": false,
    "nbgrader": {
     "cell_type": "markdown",
     "checksum": "615db92a0cea0a438f8d1bcb1b304b11",
     "grade": true,
     "grade_id": "cell-2125755949784286",
     "locked": false,
     "points": 4,
     "schema_version": 3,
     "solution": true
    }
   },
   "source": [
    "$$\\begin{bmatrix}\n",
    "P'_2(x_0) \\\\ P'_2(x_1) \\\\ P'_2(x_2) \\\\\n",
    "\\end{bmatrix} =\n",
    "\\begin{bmatrix}\n",
    "-\\frac{3}{2\\Delta x} & \\frac{2}{\\Delta x} & -\\frac{1}{2\\Delta x} \\\\\n",
    "-\\frac{1}{2\\Delta x} & 0 & \\frac{1}{2\\Delta x} \\\\\n",
    "\\frac{1}{2\\Delta x} & -\\frac{2}{\\Delta x} & \\frac{3}{2\\Delta x} \\\\\n",
    "\\end{bmatrix} \\begin{bmatrix}\n",
    "y_0 \\\\ y_1 \\\\ y_2 \\\\ \n",
    "\\end{bmatrix} \\\\\n",
    "$$\n",
    "\n",
    "\n",
    "$$\n",
    "\\begin{bmatrix}\n",
    "P'_2(x_0) \\\\ P'_2(x_1) \\\\ P'_2(x_2) \\\\\n",
    "\\end{bmatrix} =\n",
    "\\frac{1}{2\\Delta x}\n",
    "\\begin{bmatrix}\n",
    "-3 & 4 & -1 \\\\\n",
    "-1 & 0 & 1 \\\\\n",
    "1 & -4 & 3 \\\\\n",
    "\\end{bmatrix} \\begin{bmatrix}\n",
    "y_0 \\\\ y_1 \\\\ y_2 \\\\ \n",
    "\\end{bmatrix} \\\\\n",
    "$$\n",
    "\n",
    "\n",
    "\n",
    "if $0\\rightarrow i, 1\\rightarrow i+1, 2\\rightarrow i+2$ then\n",
    "$$\n",
    "\\begin{bmatrix}\n",
    "P'_2(x_i) \\\\ P'_2(x_{i+1}) \\\\ P'_2(x_{i+2}) \\\\\n",
    "\\end{bmatrix} =\n",
    "\\frac{1}{2\\Delta x}\n",
    "\\begin{bmatrix}\n",
    "-3 & 4 & -1 \\\\\n",
    "-1 & 0 & 1 \\\\\n",
    "1 & -4 & 3 \\\\\n",
    "\\end{bmatrix} \\begin{bmatrix}\n",
    "y_i \\\\ y_{i+1} \\\\ y_{i+2} \\\\ \n",
    "\\end{bmatrix} \\\\\n",
    "$$\n",
    "\n",
    "\n",
    "\n",
    "$$\n",
    "f'(x) = \\begin{bmatrix}\n",
    "f'(x_0) \\\\ \\vdots \\\\ \\vdots \\\\ f'(x_i) \\\\ f'(x_{i+1}) \\\\ f'(x_{i+2}) \\\\ \\vdots \\\\ f'(x_{N-1}) \\\\ f'_{N}\\\\\n",
    "\\end{bmatrix} \\approx \n",
    "\\begin{bmatrix}\n",
    "P'_2(x_0) \\\\ \\vdots \\\\ \\vdots \\\\ P'_2(x_i) \\\\ P'_2(x_{i+1}) \\\\ P'_2(x_{i+2}) \\\\ \\vdots \\\\ P'_2(x_{N-1}) \\\\ P'_2(x_N)\\\\\n",
    "\\end{bmatrix}\\\\ \n",
    "$$\n",
    "\n",
    "$$\n",
    "=\n",
    "\\frac{1}{2\\Delta x}\n",
    "\\begin{bmatrix}\n",
    "-3 & 4 & -1 & 0 & 0 & 0 & 0 & \\cdots & \\cdots & \\cdots& \\cdots& \\cdots&0\\\\\n",
    "&\\vdots &&&&&&&&& && \\vdots\\\\\n",
    "&\\vdots &&&&&&&&& && \\vdots\\\\\n",
    "&\\vdots &&&&&&&&& && \\vdots\\\\\n",
    "0 & 0 & \\cdots & -3 & 4 & -1 & 0 & 0 & 0 & 0 & \\cdots& \\cdots&0\\\\\n",
    "0 & 0 & \\cdots & 0 & -3 & 4 & -1 & 0 & 0 & 0 & \\cdots& \\cdots&0\\\\\n",
    "0 & 0 & \\cdots & 0 & 0 & -3 & 4 & -1 & 0 & 0 & \\cdots& \\cdots&0\\\\\n",
    "&\\vdots &&&&&&&\\vdots&& && \\vdots\\\\\n",
    "&\\vdots &&&&&&&\\vdots&& && \\vdots\\\\\n",
    "&\\vdots &&&&&&&\\vdots&& && \\vdots\\\\\n",
    "0 & 0 & \\cdots & 0 & 0 & \\cdots& \\cdots& \\cdots&0 & -1 & 0 & 1 & 0  \\\\\n",
    "0 & 0 & \\cdots & 0 & 0 & \\cdots& \\cdots& \\cdots&0 & 0 & 1 & -4 & 3  \\\\\n",
    "\\end{bmatrix} \\begin{bmatrix}\n",
    "f_0 \\\\ \\vdots \\\\ \\vdots \\\\ f_i \\\\ f_{i+1} \\\\ f_{i+2} \\\\ \\vdots \\\\ f_{N-1} \\\\ f_{N}\\\\\n",
    "\\end{bmatrix} \n",
    "$$"
   ]
  },
  {
   "cell_type": "markdown",
   "metadata": {
    "deletable": false,
    "editable": false,
    "nbgrader": {
     "cell_type": "markdown",
     "checksum": "81a305f8a973d9be62256992de1c1149",
     "grade": false,
     "grade_id": "cell-8815784455777695",
     "locked": true,
     "schema_version": 3,
     "solution": false
    }
   },
   "source": [
    "**(c)** [4] Using the function `fdcoeffV.py` described in class (and included with this homework), write a python function that takes in a numpy array of coordinates $x$ (not necessarily evenly spaced)  and returns a matrix $D$ that calculates the consistent 2nd-order 1st derivatives at each point using 3 nearest neighbors (be careful at the edges)\n",
    "\n",
    "Given this matrix $D$, it is easy to test it for various functions and meshes"
   ]
  },
  {
   "cell_type": "code",
   "execution_count": 16,
   "metadata": {
    "deletable": false,
    "nbgrader": {
     "cell_type": "code",
     "checksum": "0ccb77beb9410271354dbf3a474cb335",
     "grade": false,
     "grade_id": "cell-5516025382221234",
     "locked": false,
     "schema_version": 3,
     "solution": true
    }
   },
   "outputs": [],
   "source": [
    "from fdcoeffV import fdcoeffV\n",
    "\n",
    "def D1(x):\n",
    "    \"\"\"\n",
    "    Write a good doc-string\n",
    "    \n",
    "    x: ndarray of coordinates\n",
    "    D: ndarray\n",
    "        Matrix (2-D ndarray ) to calculate consistent 2nd order first derivative\n",
    "    \"\"\"\n",
    "    D = np.zeros((x.shape[0], x.shape[0]))\n",
    "    \n",
    "    for i in range(len(x)):\n",
    "        k = 1 # order of derivative \n",
    "        xbar = x[i]\n",
    "        if i == 0: # forward differences\n",
    "            # fdcoeffV takes in numpy array of coordinates to use in calculating the weights\n",
    "            coords = np.asarray([x[i], x[i+1], x[i+2]])\n",
    "            coeffs = fdcoeffV(k, xbar, coords)\n",
    "            D[i,i:i+3] = coeffs\n",
    "        \n",
    "        elif i == len(x) - 1: # backward differences\n",
    "            coords = np.asarray([x[i-2], x[i-1], x[i]])\n",
    "            coeffs = fdcoeffV(k, xbar, coords)\n",
    "            D[i,i-2:i+1] = coeffs\n",
    "            \n",
    "        else: # centered differences\n",
    "            coords = np.asarray([x[i-1], x[i], x[i+1]])\n",
    "            coeffs = fdcoeffV(k, xbar, coords)\n",
    "            D[i,i-1:i+2] = coeffs\n",
    "            \n",
    "    return D\n"
   ]
  },
  {
   "cell_type": "code",
   "execution_count": 17,
   "metadata": {
    "deletable": false,
    "editable": false,
    "nbgrader": {
     "cell_type": "code",
     "checksum": "728edeeac8ee580c8b5451714396ff74",
     "grade": true,
     "grade_id": "cell-7511846809958937",
     "locked": true,
     "points": 4,
     "schema_version": 3,
     "solution": false
    }
   },
   "outputs": [
    {
     "name": "stdout",
     "output_type": "stream",
     "text": [
      "Uniform mesh: Success!\n",
      "Random mesh: Success!\n"
     ]
    }
   ],
   "source": [
    "# Let's test this using f(x) = sin(pi*x) on a uniform mesh\n",
    "N = 200\n",
    "x = numpy.linspace(-1, 1, N)\n",
    "dx = x[1]-x[0]\n",
    "\n",
    "pi = numpy.pi\n",
    "y = lambda x: numpy.sin(pi*x)\n",
    "y_prime = lambda x: pi*numpy.cos(pi*x)\n",
    "\n",
    "print(\"Uniform mesh: \",end='')\n",
    "numpy.testing.assert_allclose(numpy.dot(D1(x), y(x)), y_prime(x), rtol=1e-2)\n",
    "print(\"Success!\")\n",
    "\n",
    "# test on a randomized mesh\n",
    "x_rand = x + dx/3.*numpy.random.rand(N)\n",
    "print(\"Random mesh: \",end ='')\n",
    "numpy.testing.assert_allclose(numpy.dot(D1(x_rand), y(x_rand)), y_prime(x_rand), rtol=1e-2)\n",
    "print(\"Success!\")\n",
    "\n"
   ]
  },
  {
   "cell_type": "markdown",
   "metadata": {
    "deletable": false,
    "editable": false,
    "nbgrader": {
     "cell_type": "markdown",
     "checksum": "ae07a197d06352ba440c9a21e07f055a",
     "grade": false,
     "grade_id": "cell-894a7ec04fd0689b",
     "locked": true,
     "schema_version": 3,
     "solution": false,
     "task": false
    }
   },
   "source": [
    "**(d)** [6] make a beautiful convergence plot showing how the relative error in your finite element approximation\n",
    "\n",
    "$$ r = \\frac{||f'(\\mathbf{x}) - D\\mathbf{y}||}{||f'(\\mathbf{x})||}$$\n",
    "\n",
    " scales with mesh spacing $\\Delta x$ for $f(x) = \\sin(\\pi x)$ on the interval $x\\in[-1,1]$.  What is the expected rate of convergence?  Compare with the best fit straight line (in log space) to your error estimates."
   ]
  },
  {
   "cell_type": "code",
   "execution_count": 33,
   "metadata": {
    "deletable": false,
    "nbgrader": {
     "cell_type": "code",
     "checksum": "4500eb4ea647bfe57d5b35b583a5e97c",
     "grade": true,
     "grade_id": "cell-2dac3533cd822755",
     "locked": false,
     "points": 4,
     "schema_version": 3,
     "solution": true,
     "task": false
    }
   },
   "outputs": [
    {
     "name": "stdout",
     "output_type": "stream",
     "text": [
      "[  9  17  33  65 129 257 513]\n",
      "The rate of convergence is: 2.0595599951055736\n"
     ]
    },
    {
     "data": {
      "image/png": "[encoded data removed]",
      "text/plain": [
       "<Figure size 1152x432 with 1 Axes>"
      ]
     },
     "metadata": {
      "needs_background": "light"
     },
     "output_type": "display_data"
    }
   ],
   "source": [
    "import numpy as np\n",
    "# define 2 functions, f and f_prime\n",
    "# def: f, f_prime, ex. f by saying f=lambda x: numpy.sin(numpy x)\n",
    "# N = 2 ^ np.array(range(3,10)) + 1 = 2^[3,4,5,...,10] + 1 = [9,17,...]\n",
    "# (initialize dx as follows:) d_x = np.zeros(NP.shape), (error array) err = []\n",
    "# 2 to the power of, creating a list of 7 numbers ranging from 3 to 10\n",
    "# for i, n in enumerate(N):\n",
    "#    x = np.linspace(-1,1,n)\n",
    "#    dx[i] = x[1] - x[0]\n",
    "#    y_prime = D1[x].dot(f(x))\n",
    "#    err[i] = np.linalg.norm(f_prime - y_prime) / np.linalg.norm(f_prime(x))\n",
    "\n",
    "\n",
    "# on y axis, log of error, on x axis, the mesh size\n",
    "# show convergence as it gets smaller\n",
    "\n",
    "# linear with respect to increasing\n",
    "# the relative error scales with delta x squared cuz it's linear\n",
    "\n",
    "f = lambda x: np.sin(np.pi * x)\n",
    "f_prime = lambda x: np.pi * np.cos(np.pi * x)\n",
    "N = np.asarray([2**val + 1 for val in np.array(range(3,10))])\n",
    "print(N)\n",
    "d_x = np.zeros(N.shape)\n",
    "err = np.zeros(N.shape)\n",
    "for i, n in enumerate(N):\n",
    "    x = np.linspace(-1,1,n)\n",
    "    # produce exponentially smaller and smaller mesh size\n",
    "    d_x[i] = x[1] - x[0] # define mesh size\n",
    "    y_prime = D1(x).dot(f(x))\n",
    "    err[i] = np.linalg.norm(f_prime(x) - y_prime) / np.linalg.norm(f_prime(x))\n",
    "    \n",
    "\n",
    "xlog = np.logspace(np.log10(d_x[0]), np.log10(d_x[-1]), 100)\n",
    "p = np.polyfit(np.log10(d_x), np.log10(err), 1)\n",
    "err_fit = 10**np.polyval(p, np.log10(xlog))\n",
    "\n",
    "\n",
    "fig = plt.figure(figsize=(16,6))\n",
    "axes = fig.add_subplot(1, 2, 1)\n",
    "print(f\"The rate of convergence is: {p[0]}\")\n",
    "axes.loglog(xlog, err_fit, label='rate of convergence is: {}'.format(p[0])) # the 0th item in p array is rate of convergence\n",
    "axes.set_title(\"Rate of Convergence\",fontsize=18)\n",
    "axes.set_xlabel(\"$\\Delta x$\",fontsize=16)\n",
    "axes.set_ylabel(\"relative error\",fontsize=16)\n",
    "axes.legend(loc=1,fontsize=16)\n",
    "axes.grid()\n",
    "\n",
    "\n"
   ]
  },
  {
   "cell_type": "markdown",
   "metadata": {
    "deletable": false,
    "nbgrader": {
     "cell_type": "markdown",
     "checksum": "26e78697e343f6e8a397e33cb9f745f8",
     "grade": true,
     "grade_id": "cell-cdbaae508b97aeab",
     "locked": false,
     "points": 2,
     "schema_version": 3,
     "solution": true,
     "task": false
    }
   },
   "source": [
    "As we are plotting on a logarithmic scale, the rate of convergence is quadratic, which is in line with the error analysis for second order differences $N=2$. For general second order polynomial interpolation, the derivative of the remainder term is\n",
    "\n",
    "$$\\begin{aligned}\n",
    "    R_2'(x) &= \\left(\\sum^{2}_{i=0} \\left( \\prod^{2}_{j=0,~j\\neq i} (x - x_j) \\right )\\right ) \\frac{f'''(c)}{3!} \\\\\n",
    "    &= \\left ( (x - x_{i+1}) (x - x_{i-1}) + (x-x_i) (x-x_{i-1}) + (x-x_i)(x-x_{i+1}) \\right ) \\frac{f'''(c)}{3!}\n",
    "\\end{aligned}$$\n",
    "and when evaluating this expression at the center point $x = x_i$ and assuming evenly space points we have\n",
    "\n",
    "$$R_2'(x_i) = -\\Delta x^2 \\frac{f'''(c)}{3!}$$\n",
    "\n",
    "showing that our error is $\\mathcal{O}(\\Delta x^2)$.\n",
    "\n",
    "Thus, higher order polynomials is not necessary higher accuracy unless the function is smooth."
   ]
  },
  {
   "cell_type": "markdown",
   "metadata": {
    "deletable": false,
    "editable": false,
    "nbgrader": {
     "cell_type": "markdown",
     "checksum": "71695abb08cc03b3423e733ae2b932fa",
     "grade": false,
     "grade_id": "cell-1283048126092389",
     "locked": true,
     "schema_version": 3,
     "solution": false
    }
   },
   "source": [
    "**(e)** [4] Suppose we knew the *first derivative* of a function $f(x)$ at a discrete set of points and wanted to solve for the discrete function itself.  i.e.  ideally given $D$ and vector $\\mathbf{y} = f'(\\mathbf{x})$,  we would like to be able to solve the linear algebra problem\n",
    "\n",
    "$$\n",
    "    D\\mathbf{f} = \\mathbf{y}\n",
    "$$\n",
    "\n",
    "for $\\mathbf{f}\\approx f(\\bf{x})$.  Discuss any issues we might have with this approach."
   ]
  },
  {
   "cell_type": "markdown",
   "metadata": {
    "deletable": false,
    "nbgrader": {
     "cell_type": "markdown",
     "checksum": "4796062ad226b5075c548c9202ba07fe",
     "grade": true,
     "grade_id": "cell-3816704844311840",
     "locked": false,
     "points": 4,
     "schema_version": 3,
     "solution": true
    }
   },
   "source": [
    "If we solve the linear algebra problem for $D\\mathbf{f} = \\mathbf{y}$, we may encounter issues if D is not invertible, which would happen if D has linearly dependent rows (like in the case of the 2nd order derivative from part a, where the rows of D are identical)."
   ]
  },
  {
   "cell_type": "code",
   "execution_count": null,
   "metadata": {},
   "outputs": [],
   "source": []
  }
 ],
 "metadata": {
  "kernelspec": {
   "display_name": "Python 3",
   "language": "python",
   "name": "python3"
  },
  "language_info": {
   "codemirror_mode": {
    "name": "ipython",
    "version": 3
   },
   "file_extension": ".py",
   "mimetype": "text/x-python",
   "name": "python",
   "nbconvert_exporter": "python",
   "pygments_lexer": "ipython3",
   "version": "3.8.8"
  },
  "latex_envs": {
   "bibliofile": "biblio.bib",
   "cite_by": "apalike",
   "current_citInitial": 1,
   "eqLabelWithNumbers": true,
   "eqNumInitial": 0
  }
 },
 "nbformat": 4,
 "nbformat_minor": 4
}
