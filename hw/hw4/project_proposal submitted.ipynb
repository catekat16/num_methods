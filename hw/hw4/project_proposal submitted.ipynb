{
 "cells": [
  {
   "cell_type": "markdown",
   "metadata": {},
   "source": [
    "Before you turn this problem in, make sure everything runs as expected. First, **restart the kernel** (in the menubar, select Kernel$\\rightarrow$Restart) and then **run all cells** (in the menubar, select Cell$\\rightarrow$Run All).\n",
    "\n",
    "Make sure you fill in any place that says `YOUR CODE HERE` or \"YOUR ANSWER HERE\", as well as any collaborators you worked with:"
   ]
  },
  {
   "cell_type": "code",
   "execution_count": 1,
   "metadata": {},
   "outputs": [],
   "source": [
    "COLLABORATORS = \"N/A\""
   ]
  },
  {
   "cell_type": "markdown",
   "metadata": {},
   "source": [
    "---"
   ]
  },
  {
   "cell_type": "code",
   "execution_count": 2,
   "metadata": {},
   "outputs": [],
   "source": [
    "%matplotlib inline\n",
    "%precision 16\n",
    "import numpy\n",
    "import matplotlib.pyplot as plt\n",
    "import pandas as pd"
   ]
  },
  {
   "cell_type": "markdown",
   "metadata": {
    "deletable": false,
    "editable": false,
    "nbgrader": {
     "cell_type": "markdown",
     "checksum": "b7d53204e6a3b97e8e6bad19bcbe6068",
     "grade": false,
     "grade_id": "cell-c4123d20c3a14019",
     "locked": true,
     "schema_version": 3,
     "solution": false,
     "task": false
    }
   },
   "source": [
    "# Proposal for  the Final Project\n",
    "\n",
    "This notebook is primarily to get you started thinking about what you would like to do for a project and as input for mini-conferences that we can have to help you refine the scope and deliverables for the project.\n",
    "\n",
    "It will be worth **5 points** if it is completed (there are no wrong answers here except for no answers).  \n",
    "\n",
    "----------------------------\n",
    "\n",
    "#### Some background on the project\n",
    "\n",
    "The purpose of the project is 2-fold\n",
    "\n",
    "* To give you an opportunity to work on a problem you are truly interested in (as this is the best way to actually learn something)\n",
    "* To demonstrate to me that you understand the overall workflow of problem solving from problem selection to implementation to discussion \n",
    "\n",
    "You can choose any subject area that interests you as long as there is a computational component to it.  However, please do not reuse projects or homeworks you have done in other classes.  This should be **your** original work.\n",
    "\n",
    "\n",
    "\n"
   ]
  },
  {
   "cell_type": "markdown",
   "metadata": {
    "deletable": false,
    "editable": false,
    "nbgrader": {
     "cell_type": "markdown",
     "checksum": "eed56ea80bcbe9eb5a66f7cabfe5e516",
     "grade": false,
     "grade_id": "cell-318b53f4ed873060",
     "locked": true,
     "schema_version": 3,
     "solution": false,
     "task": false
    }
   },
   "source": [
    "## Instructions\n",
    "\n",
    "With a few paragraphs (max),  propose a problem that you would like to work on for the independent class project. \n",
    "\n",
    "Your proposal should include the following:\n",
    "\n",
    "* A brief statement of the general problem (e.g. Solve an ODE model for pandemics, explore/reproduce an algorithm you saw in a class or paper)\n",
    "* A brief statement of why the problem is important (to you or to a larger audience, or both)\n",
    "* A brief statement of the computational tools you expect to use or want to explore.\n",
    "* A brief statement of what you hope to gain from the project\n",
    "\n",
    "**Notes/Comments:**\n",
    "\n",
    "* you are not limited to methods we talked about in class (e.g. you could explore spectral methods, ML algorithms etc)\n",
    "* Some good approaches for picking a problem include\n",
    "  * There is a classic paper on some problem that you would like to learn by reproducing some of their results\n",
    "  * You are currently engaged in research, and there is some relevant technique/problem you would like to explore\n",
    "  * There is a subject we covered that you want to explore in more depth.\n",
    "  \n",
    "Again...I am relatively agnostic to problem choice as long as it's computational in nature and of interest to you.  Write down your best thoughts and we can iterate.  \n",
    "\n",
    "    \n"
   ]
  },
  {
   "cell_type": "markdown",
   "metadata": {
    "deletable": false,
    "nbgrader": {
     "cell_type": "markdown",
     "checksum": "b659f95e9f6fbb8679cb1b03f0da3421",
     "grade": true,
     "grade_id": "cell-f3a6a5fa3a14f053",
     "locked": false,
     "points": 5,
     "schema_version": 3,
     "solution": true,
     "task": false
    }
   },
   "source": [
    "While traditional animation has required artists to draw animations frame by frame manually, more modern animation techniques developed for procedure animation have enabled the physics of character movement in games to be more realistic. The topic of inverse kinematics poses the question of what angles a set of joints should be set for a robotic arm in order to reach the desired point. There are many different numerical algorithms that have been explored within this topic, including:\n",
    "\n",
    "* Pseudoinverse Jacobian\n",
    "* Jacobian Transpose\n",
    "* Cyclic Coordinate Descent (CCD)\n",
    "* Gaussian Damped Least Squares (GDLS)\n",
    "* Newton's method\n",
    "* Gradient Descent\n",
    "* Genetic algorithms \n",
    "* Neural Networks\n",
    "\n",
    "In this project, I plan to implement an iteration-based method, as well as a learning-based method to solve for the inverse kinematics of various robotic arms with 3 degrees of freedom, and compare the performances and accuracies of each method. Currently, I'm leaning towards using newton's method, cyclic coordinate descent, gradient descent for the scope of this project implementation. \n",
    "\n",
    "One possible extension to this project could be modifying the inverse kinematics code to extend the solver for a robotic arm with more than 3 degrees of freedom.\n",
    "\n",
    "Another possible extension to this project could involve creating an animation of a biped or a quadruped in Unity and using the inverse kinematics code we created to demonstrate applications of this project work in game development.\n",
    "\n",
    "I have always been interested in animation and in indie game development, but have not been able to take any computer graphics or animation courses while here at Columbia. I hope to take my learnings from this course and complete this project which would enable me to learn more about the physics and math involved in modern animation technique. \n",
    "\n",
    "References:\n",
    "* [Procedural Animation](https://youtu.be/LNidsMesxSE)\n",
    "* [Research Paper](http://www.diva-portal.org/smash/get/diva2:1018821/FULLTEXT01.pdf)\n",
    "\n"
   ]
  }
 ],
 "metadata": {
  "kernelspec": {
   "display_name": "Python 3",
   "language": "python",
   "name": "python3"
  },
  "language_info": {
   "codemirror_mode": {
    "name": "ipython",
    "version": 3
   },
   "file_extension": ".py",
   "mimetype": "text/x-python",
   "name": "python",
   "nbconvert_exporter": "python",
   "pygments_lexer": "ipython3",
   "version": "3.8.8"
  },
  "latex_envs": {
   "bibliofile": "biblio.bib",
   "cite_by": "apalike",
   "current_citInitial": 1,
   "eqLabelWithNumbers": true,
   "eqNumInitial": 0
  }
 },
 "nbformat": 4,
 "nbformat_minor": 4
}
